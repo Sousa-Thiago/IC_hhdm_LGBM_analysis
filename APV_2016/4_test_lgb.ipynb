{
 "cells": [
  {
   "cell_type": "markdown",
   "id": "967115ad",
   "metadata": {},
   "source": [
    "# Bibliotecas"
   ]
  },
  {
   "cell_type": "code",
   "execution_count": 2,
   "id": "b49e33f8",
   "metadata": {},
   "outputs": [],
   "source": [
    "import sys\n",
    "\n",
    "sys.path.append('/eos/user/t/thenriqu/Dark_Matter/LGBM_hhdm_analysis/')\n",
    "\n",
    "import json\n",
    "from pathlib import Path\n",
    "\n",
    "import numpy as np\n",
    "import pandas as pd\n",
    "import matplotlib.pyplot as plt\n",
    "import matplotlib.gridspec as gs\n",
    "import hepherolib.analysis as ana\n",
    "\n",
    "from lgbm.controllers_lgb_v2 import LGBLearner, LGBModel\n",
    "from lgbm.utils import model_performance, compute_purity_cutflow, compute_best_thr\n",
    "from hhdm_analysis.utils import position, signal_label\n",
    "\n",
    "ana.start()\n",
    "plt.style.use(\"default\")"
   ]
  },
  {
   "cell_type": "markdown",
   "id": "0c1744f6",
   "metadata": {},
   "source": [
    "# Configuração"
   ]
  },
  {
   "cell_type": "code",
   "execution_count": 3,
   "id": "fba6bb92",
   "metadata": {},
   "outputs": [],
   "source": [
    "period = 'APV_16'\n",
    "year_style = 2016\n",
    "dataset_year = \"APV_2016\"\n",
    "basedir = '/eos/user/t/thenriqu/Dark_Matter/Amostras/hhdmAnalysis_deepJet_Regions/datasets'\n",
    "\n",
    "# Setup figure folders\n",
    "dataset_name = basedir.split('/')[-2]\n",
    "figures_path = f\"./figures/{dataset_name}/{dataset_year}/machine_learning\"\n",
    "Path(figures_path).mkdir(parents=True, exist_ok=True)\n",
    "\n",
    "# Data folder\n",
    "data_path = f\"./data/{dataset_name}/{dataset_year}\"\n",
    "Path(data_path).mkdir(parents=True, exist_ok=True)\n",
    "\n",
    "# Setup models folders\n",
    "models_path = f\"./models/{dataset_name}/{dataset_year}\"\n",
    "Path(models_path).mkdir(parents=True, exist_ok=True)"
   ]
  },
  {
   "cell_type": "markdown",
   "id": "60e55b1e",
   "metadata": {},
   "source": [
    "# Lendo Metadata"
   ]
  },
  {
   "cell_type": "code",
   "execution_count": 4,
   "id": "d774ffb0",
   "metadata": {},
   "outputs": [],
   "source": [
    "with open('/eos/user/t/thenriqu/Dark_Matter/metadata.json', 'r') as f:\n",
    "    metadata = json.load(f)"
   ]
  },
  {
   "cell_type": "markdown",
   "id": "864263de",
   "metadata": {},
   "source": [
    "# Lendo Dados e Modelo"
   ]
  },
  {
   "cell_type": "code",
   "execution_count": 5,
   "id": "9aebc494",
   "metadata": {},
   "outputs": [],
   "source": [
    "model_name = 'LGB_multi_signal'\n",
    "plot_label = 'Multi-signal'\n",
    "\n",
    "# Train and Test data\n",
    "X_train = pd.read_csv(f'{data_path}/{model_name}-train-data.csv')\n",
    "X_test = pd.read_csv(f'{data_path}/{model_name}-test-data.csv')\n",
    "\n",
    "W_train = X_train.pop('modelWeight').values\n",
    "W_test = X_test.pop('modelWeight').values\n",
    "\n",
    "Y_train = X_train.pop('Label').values\n",
    "Y_test = X_test.pop('Label').values\n",
    "\n",
    "evtWeight_train = X_train.pop('evtWeight').values\n",
    "evtWeight_teste = X_test.pop('evtWeight').values\n",
    "\n",
    "# Model\n",
    "features = [\"LeadingLep_pt\", \"LepLep_deltaM\", \"LepLep_deltaR\", \"LepLep_pt\", \"MET_LepLep_Mt\", \"MET_LepLep_deltaPhi\", \"MET_pt\", \"MT2LL\", \"Nbjets\", \"TrailingLep_pt\"]\n",
    "# model_path = f\"{models_path}/{model_name}-clf.model\"\n",
    "# model = LGBModel(model_fpath=model_path)\n",
    "model = LGBModel(model_fpath=f\"{models_path}/{model_name}-clf.model\")"
   ]
  },
  {
   "cell_type": "markdown",
   "id": "a2ad0af9",
   "metadata": {},
   "source": [
    "# Predict do Treino e Teste"
   ]
  },
  {
   "cell_type": "code",
   "execution_count": 6,
   "id": "106abb6c",
   "metadata": {
    "scrolled": true
   },
   "outputs": [],
   "source": [
    "# Train\n",
    "Y_pred_train = model.predict(X_train[features], features)\n",
    "perf_train = model_performance(Y_train, Y_pred_train, n=1000)\n",
    "ppv_train_cutflow = compute_purity_cutflow(perf_train.threshold, perf_train.fpr, perf_train.tpr, perf_train.ppv, perf_train.acc)\n",
    "best_train_thr = compute_best_thr(perf_train.threshold, perf_train.tpr, perf_train.ppv)\n",
    "ppv_train_cutflow.to_csv(f'{models_path}/{model_name}-ppv-train-cutflow.csv', index=False)\n",
    "\n",
    "\n",
    "# Test\n",
    "Y_pred_test = model.predict(X_test[features], features)\n",
    "perf_test = model_performance(Y_test, Y_pred_test, n=1000)\n",
    "ppv_test_cutflow = compute_purity_cutflow(perf_test.threshold, perf_test.fpr, perf_test.tpr, perf_test.ppv, perf_test.acc)\n",
    "best_test_thr = compute_best_thr(perf_test.threshold, perf_test.tpr, perf_test.ppv)\n",
    "ppv_test_cutflow.to_csv(f'{models_path}/{model_name}-ppv-test-cutflow.csv', index=False)"
   ]
  },
  {
   "cell_type": "code",
   "execution_count": 7,
   "id": "8c299bd0",
   "metadata": {},
   "outputs": [
    {
     "name": "stdout",
     "output_type": "stream",
     "text": [
      "Best thr train: 0.9819819819819819\n"
     ]
    },
    {
     "data": {
      "text/html": [
       "<div>\n",
       "<style scoped>\n",
       "    .dataframe tbody tr th:only-of-type {\n",
       "        vertical-align: middle;\n",
       "    }\n",
       "\n",
       "    .dataframe tbody tr th {\n",
       "        vertical-align: top;\n",
       "    }\n",
       "\n",
       "    .dataframe thead th {\n",
       "        text-align: right;\n",
       "    }\n",
       "</style>\n",
       "<table border=\"1\" class=\"dataframe\">\n",
       "  <thead>\n",
       "    <tr style=\"text-align: right;\">\n",
       "      <th></th>\n",
       "      <th>purity_cut</th>\n",
       "      <th>purity</th>\n",
       "      <th>threshold</th>\n",
       "      <th>efficiency</th>\n",
       "      <th>bkg_rejection</th>\n",
       "      <th>accuracy</th>\n",
       "    </tr>\n",
       "  </thead>\n",
       "  <tbody>\n",
       "    <tr>\n",
       "      <th>0</th>\n",
       "      <td>0.100000</td>\n",
       "      <td>0.111412</td>\n",
       "      <td>0.000000</td>\n",
       "      <td>1.000000</td>\n",
       "      <td>0.169398</td>\n",
       "      <td>0.247739</td>\n",
       "    </tr>\n",
       "    <tr>\n",
       "      <th>1</th>\n",
       "      <td>0.200000</td>\n",
       "      <td>0.200629</td>\n",
       "      <td>0.094094</td>\n",
       "      <td>0.999423</td>\n",
       "      <td>0.585305</td>\n",
       "      <td>0.624364</td>\n",
       "    </tr>\n",
       "    <tr>\n",
       "      <th>2</th>\n",
       "      <td>0.300000</td>\n",
       "      <td>0.300181</td>\n",
       "      <td>0.249249</td>\n",
       "      <td>0.993401</td>\n",
       "      <td>0.758814</td>\n",
       "      <td>0.780940</td>\n",
       "    </tr>\n",
       "    <tr>\n",
       "      <th>3</th>\n",
       "      <td>0.400000</td>\n",
       "      <td>0.400270</td>\n",
       "      <td>0.461461</td>\n",
       "      <td>0.978650</td>\n",
       "      <td>0.847294</td>\n",
       "      <td>0.859684</td>\n",
       "    </tr>\n",
       "    <tr>\n",
       "      <th>4</th>\n",
       "      <td>0.500000</td>\n",
       "      <td>0.500058</td>\n",
       "      <td>0.693694</td>\n",
       "      <td>0.953438</td>\n",
       "      <td>0.900730</td>\n",
       "      <td>0.905702</td>\n",
       "    </tr>\n",
       "    <tr>\n",
       "      <th>5</th>\n",
       "      <td>0.600000</td>\n",
       "      <td>0.600663</td>\n",
       "      <td>0.881882</td>\n",
       "      <td>0.913712</td>\n",
       "      <td>0.936738</td>\n",
       "      <td>0.934566</td>\n",
       "    </tr>\n",
       "    <tr>\n",
       "      <th>6</th>\n",
       "      <td>0.700000</td>\n",
       "      <td>0.700317</td>\n",
       "      <td>0.970971</td>\n",
       "      <td>0.853450</td>\n",
       "      <td>0.961966</td>\n",
       "      <td>0.951731</td>\n",
       "    </tr>\n",
       "    <tr>\n",
       "      <th>7</th>\n",
       "      <td>0.800000</td>\n",
       "      <td>0.806062</td>\n",
       "      <td>0.994995</td>\n",
       "      <td>0.710259</td>\n",
       "      <td>0.982203</td>\n",
       "      <td>0.956554</td>\n",
       "    </tr>\n",
       "    <tr>\n",
       "      <th>8</th>\n",
       "      <td>0.900000</td>\n",
       "      <td>0.111412</td>\n",
       "      <td>0.000000</td>\n",
       "      <td>1.000000</td>\n",
       "      <td>0.169398</td>\n",
       "      <td>0.247739</td>\n",
       "    </tr>\n",
       "    <tr>\n",
       "      <th>9</th>\n",
       "      <td>0.730464</td>\n",
       "      <td>0.730464</td>\n",
       "      <td>0.981982</td>\n",
       "      <td>0.824717</td>\n",
       "      <td>0.968308</td>\n",
       "      <td>0.954765</td>\n",
       "    </tr>\n",
       "  </tbody>\n",
       "</table>\n",
       "</div>"
      ],
      "text/plain": [
       "   purity_cut    purity  threshold  efficiency  bkg_rejection  accuracy\n",
       "0    0.100000  0.111412   0.000000    1.000000       0.169398  0.247739\n",
       "1    0.200000  0.200629   0.094094    0.999423       0.585305  0.624364\n",
       "2    0.300000  0.300181   0.249249    0.993401       0.758814  0.780940\n",
       "3    0.400000  0.400270   0.461461    0.978650       0.847294  0.859684\n",
       "4    0.500000  0.500058   0.693694    0.953438       0.900730  0.905702\n",
       "5    0.600000  0.600663   0.881882    0.913712       0.936738  0.934566\n",
       "6    0.700000  0.700317   0.970971    0.853450       0.961966  0.951731\n",
       "7    0.800000  0.806062   0.994995    0.710259       0.982203  0.956554\n",
       "8    0.900000  0.111412   0.000000    1.000000       0.169398  0.247739\n",
       "9    0.730464  0.730464   0.981982    0.824717       0.968308  0.954765"
      ]
     },
     "metadata": {},
     "output_type": "display_data"
    }
   ],
   "source": [
    "print('Best thr train:', best_train_thr)\n",
    "display(ppv_train_cutflow)"
   ]
  },
  {
   "cell_type": "code",
   "execution_count": 8,
   "id": "acd74a79",
   "metadata": {},
   "outputs": [
    {
     "name": "stdout",
     "output_type": "stream",
     "text": [
      "Best thr test 0.980980980980981\n"
     ]
    },
    {
     "data": {
      "text/html": [
       "<div>\n",
       "<style scoped>\n",
       "    .dataframe tbody tr th:only-of-type {\n",
       "        vertical-align: middle;\n",
       "    }\n",
       "\n",
       "    .dataframe tbody tr th {\n",
       "        vertical-align: top;\n",
       "    }\n",
       "\n",
       "    .dataframe thead th {\n",
       "        text-align: right;\n",
       "    }\n",
       "</style>\n",
       "<table border=\"1\" class=\"dataframe\">\n",
       "  <thead>\n",
       "    <tr style=\"text-align: right;\">\n",
       "      <th></th>\n",
       "      <th>purity_cut</th>\n",
       "      <th>purity</th>\n",
       "      <th>threshold</th>\n",
       "      <th>efficiency</th>\n",
       "      <th>bkg_rejection</th>\n",
       "      <th>accuracy</th>\n",
       "    </tr>\n",
       "  </thead>\n",
       "  <tbody>\n",
       "    <tr>\n",
       "      <th>0</th>\n",
       "      <td>0.100000</td>\n",
       "      <td>0.111249</td>\n",
       "      <td>0.000000</td>\n",
       "      <td>0.998447</td>\n",
       "      <td>0.169304</td>\n",
       "      <td>0.247510</td>\n",
       "    </tr>\n",
       "    <tr>\n",
       "      <th>1</th>\n",
       "      <td>0.200000</td>\n",
       "      <td>0.200455</td>\n",
       "      <td>0.098098</td>\n",
       "      <td>0.985673</td>\n",
       "      <td>0.590557</td>\n",
       "      <td>0.627825</td>\n",
       "    </tr>\n",
       "    <tr>\n",
       "      <th>2</th>\n",
       "      <td>0.300000</td>\n",
       "      <td>0.300215</td>\n",
       "      <td>0.262262</td>\n",
       "      <td>0.972728</td>\n",
       "      <td>0.763867</td>\n",
       "      <td>0.783567</td>\n",
       "    </tr>\n",
       "    <tr>\n",
       "      <th>3</th>\n",
       "      <td>0.400000</td>\n",
       "      <td>0.400173</td>\n",
       "      <td>0.478478</td>\n",
       "      <td>0.955984</td>\n",
       "      <td>0.850768</td>\n",
       "      <td>0.860692</td>\n",
       "    </tr>\n",
       "    <tr>\n",
       "      <th>4</th>\n",
       "      <td>0.500000</td>\n",
       "      <td>0.500240</td>\n",
       "      <td>0.711712</td>\n",
       "      <td>0.934305</td>\n",
       "      <td>0.902791</td>\n",
       "      <td>0.905764</td>\n",
       "    </tr>\n",
       "    <tr>\n",
       "      <th>5</th>\n",
       "      <td>0.600000</td>\n",
       "      <td>0.600546</td>\n",
       "      <td>0.885886</td>\n",
       "      <td>0.903960</td>\n",
       "      <td>0.937381</td>\n",
       "      <td>0.934229</td>\n",
       "    </tr>\n",
       "    <tr>\n",
       "      <th>6</th>\n",
       "      <td>0.700000</td>\n",
       "      <td>0.701638</td>\n",
       "      <td>0.971972</td>\n",
       "      <td>0.848932</td>\n",
       "      <td>0.962404</td>\n",
       "      <td>0.951702</td>\n",
       "    </tr>\n",
       "    <tr>\n",
       "      <th>7</th>\n",
       "      <td>0.800000</td>\n",
       "      <td>0.806863</td>\n",
       "      <td>0.994995</td>\n",
       "      <td>0.713467</td>\n",
       "      <td>0.982214</td>\n",
       "      <td>0.956866</td>\n",
       "    </tr>\n",
       "    <tr>\n",
       "      <th>8</th>\n",
       "      <td>0.900000</td>\n",
       "      <td>0.111249</td>\n",
       "      <td>0.000000</td>\n",
       "      <td>0.998447</td>\n",
       "      <td>0.169304</td>\n",
       "      <td>0.247510</td>\n",
       "    </tr>\n",
       "    <tr>\n",
       "      <th>9</th>\n",
       "      <td>0.727355</td>\n",
       "      <td>0.727355</td>\n",
       "      <td>0.980981</td>\n",
       "      <td>0.827493</td>\n",
       "      <td>0.967697</td>\n",
       "      <td>0.954472</td>\n",
       "    </tr>\n",
       "  </tbody>\n",
       "</table>\n",
       "</div>"
      ],
      "text/plain": [
       "   purity_cut    purity  threshold  efficiency  bkg_rejection  accuracy\n",
       "0    0.100000  0.111249   0.000000    0.998447       0.169304  0.247510\n",
       "1    0.200000  0.200455   0.098098    0.985673       0.590557  0.627825\n",
       "2    0.300000  0.300215   0.262262    0.972728       0.763867  0.783567\n",
       "3    0.400000  0.400173   0.478478    0.955984       0.850768  0.860692\n",
       "4    0.500000  0.500240   0.711712    0.934305       0.902791  0.905764\n",
       "5    0.600000  0.600546   0.885886    0.903960       0.937381  0.934229\n",
       "6    0.700000  0.701638   0.971972    0.848932       0.962404  0.951702\n",
       "7    0.800000  0.806863   0.994995    0.713467       0.982214  0.956866\n",
       "8    0.900000  0.111249   0.000000    0.998447       0.169304  0.247510\n",
       "9    0.727355  0.727355   0.980981    0.827493       0.967697  0.954472"
      ]
     },
     "metadata": {},
     "output_type": "display_data"
    }
   ],
   "source": [
    "print('Best thr test', best_test_thr)\n",
    "display(ppv_test_cutflow)"
   ]
  },
  {
   "cell_type": "markdown",
   "id": "eaecb6b0",
   "metadata": {},
   "source": [
    "# Notificar quando terminar o teste"
   ]
  },
  {
   "cell_type": "code",
   "execution_count": 9,
   "id": "387813af",
   "metadata": {},
   "outputs": [
    {
     "data": {
      "application/javascript": [
       "\n",
       "  var msg = new SpeechSynthesisUtterance();\n",
       "  msg.text = \"Process completed!\";\n",
       "  window.speechSynthesis.speak(msg);\n",
       "  alert(\"Process completed!\")\n"
      ],
      "text/plain": [
       "<IPython.core.display.Javascript object>"
      ]
     },
     "metadata": {},
     "output_type": "display_data"
    }
   ],
   "source": [
    "from IPython.display import clear_output, display, HTML, Javascript\n",
    "\n",
    "display(Javascript(\"\"\"\n",
    "  var msg = new SpeechSynthesisUtterance();\n",
    "  msg.text = \"Process completed!\";\n",
    "  window.speechSynthesis.speak(msg);\n",
    "  alert(\"Process completed!\")\n",
    "\"\"\"))"
   ]
  },
  {
   "cell_type": "markdown",
   "id": "d8de88b3",
   "metadata": {},
   "source": [
    "# Preparando dados para o Plot do Discriminate"
   ]
  },
  {
   "cell_type": "code",
   "execution_count": 10,
   "id": "68ba3c56",
   "metadata": {},
   "outputs": [],
   "source": [
    "scale_factor = 10**6\n",
    "\n",
    "X_train['LGB_score'] = Y_pred_train\n",
    "X_test['LGB_score'] = Y_pred_test\n",
    "\n",
    "X_train['modelWeight'] = W_train/scale_factor\n",
    "X_test['modelWeight'] = W_test/scale_factor\n",
    "\n",
    "X_train['Label'] = Y_train\n",
    "X_test['Label'] = Y_test\n",
    "\n",
    "X_train[\"evtWeight\"] = evtWeight_train\n",
    "X_test['evtWeight'] = evtWeight_teste"
   ]
  },
  {
   "cell_type": "markdown",
   "id": "0e09748e",
   "metadata": {},
   "source": [
    "# Plot do Discriminate usando modelWeigth"
   ]
  },
  {
   "cell_type": "code",
   "execution_count": 11,
   "id": "624e2f02",
   "metadata": {},
   "outputs": [
    {
     "data": {
      "image/png": "[encoded data removed]",
      "text/plain": [
       "<Figure size 504x504 with 1 Axes>"
      ]
     },
     "metadata": {
      "needs_background": "light"
     },
     "output_type": "display_data"
    }
   ],
   "source": [
    "# Plot config\n",
    "fig = plt.figure(figsize=(7,7))\n",
    "grid = [1,1] # number of rows, number of cols\n",
    "gspec = gs.GridSpec(grid[0], grid[1], width_ratios=[1], height_ratios=[1])\n",
    "\n",
    "# Plot code\n",
    "ax1 = plt.subplot(position(gspec, grid, main=1, sub=1)) # main is column number, sub is row number\n",
    "\n",
    "ana.step_plot(ax1, \"LGB_score\", X_train[X_train.Label == 1], label=f\"{plot_label} (Train)\", color=\"blue\", weight=\"modelWeight\", bins=np.linspace(0, 1, 51))\n",
    "ana.step_plot(ax1, \"LGB_score\", X_test[X_test.Label == 1], label=f\"{plot_label} (Test)\", color=\"blue\", weight=\"modelWeight\", bins=np.linspace(0, 1, 51), linestyle=\"dotted\")\n",
    "ana.step_plot(ax1, \"LGB_score\", X_train[X_train.Label == 0], label=\"Background (Train)\", color=\"red\", weight=\"modelWeight\", bins=np.linspace(0, 1, 51))\n",
    "ana.step_plot(ax1, \"LGB_score\", X_test[X_test.Label == 0], label=\"Background (Test)\", color=\"red\", weight=\"modelWeight\", bins=np.linspace(0, 1, 51), linestyle=\"dotted\")\n",
    "\n",
    "ana.labels(ax1, ylabel=\"Model Weight\", xlabel=\"LGB_score\")\n",
    "ana.style(\n",
    "    ax1, lumi=metadata[\"luminosity\"].get(dataset_year), year=year_style,\n",
    "    ylog=False, legend_ncol=2, #ylim=[0, 1]\n",
    ")\n",
    "plt.savefig(f\"{figures_path}/LGB_score-modelWeight-{model_name}.png\", dpi=200, facecolor='white')\n",
    "plt.show()"
   ]
  },
  {
   "cell_type": "code",
   "execution_count": 12,
   "id": "6b363c2d",
   "metadata": {
    "scrolled": true
   },
   "outputs": [
    {
     "data": {
      "image/png": "[encoded data removed]",
      "text/plain": [
       "<Figure size 504x504 with 1 Axes>"
      ]
     },
     "metadata": {
      "needs_background": "light"
     },
     "output_type": "display_data"
    }
   ],
   "source": [
    "# Plot config\n",
    "fig = plt.figure(figsize=(7,7))\n",
    "grid = [1,1] # number of rows, number of cols\n",
    "gspec = gs.GridSpec(grid[0], grid[1], width_ratios=[1], height_ratios=[1])\n",
    "\n",
    "# Plot code\n",
    "ax1 = plt.subplot(position(gspec, grid, main=1, sub=1)) # main is column number, sub is row number\n",
    "\n",
    "ana.step_plot(ax1, \"LGB_score\", X_train[X_train.Label == 1], label=f\"{plot_label} (Train)\", color=\"blue\", weight=\"evtWeight\", bins=np.linspace(0, 1, 51))\n",
    "ana.step_plot(ax1, \"LGB_score\", X_test[X_test.Label == 1], label=f\"{plot_label} (Test)\", color=\"blue\", weight=\"evtWeight\", bins=np.linspace(0, 1, 51), linestyle=\"dotted\")\n",
    "ana.step_plot(ax1, \"LGB_score\", X_train[X_train.Label == 0], label=\"Background (Train)\", color=\"red\", weight=\"evtWeight\", bins=np.linspace(0, 1, 51))\n",
    "ana.step_plot(ax1, \"LGB_score\", X_test[X_test.Label == 0], label=\"Background (Test)\", color=\"red\", weight=\"evtWeight\", bins=np.linspace(0, 1, 51), linestyle=\"dotted\")\n",
    "\n",
    "ana.labels(ax1, ylabel=\"Events\", xlabel=\"LGB_score\")\n",
    "ana.style(\n",
    "    ax1, lumi=metadata[\"luminosity\"].get(dataset_year), year=year_style,\n",
    "    ylog=True, legend_ncol=2, ylim=[1e-2, 1e6]\n",
    ")\n",
    "plt.savefig(f\"{figures_path}/LGB_score-evtWeight-{model_name}.png\", dpi=200, facecolor='white')\n",
    "plt.show()"
   ]
  },
  {
   "cell_type": "code",
   "execution_count": null,
   "id": "e29abf84",
   "metadata": {},
   "outputs": [],
   "source": []
  },
  {
   "cell_type": "code",
   "execution_count": null,
   "id": "942de92b",
   "metadata": {},
   "outputs": [],
   "source": []
  },
  {
   "cell_type": "code",
   "execution_count": null,
   "id": "4b98e537",
   "metadata": {},
   "outputs": [],
   "source": []
  }
 ],
 "metadata": {
  "@webio": {
   "lastCommId": null,
   "lastKernelId": null
  },
  "kernelspec": {
   "display_name": "Python 3",
   "language": "python",
   "name": "python3"
  },
  "language_info": {
   "codemirror_mode": {
    "name": "ipython",
    "version": 3
   },
   "file_extension": ".py",
   "mimetype": "text/x-python",
   "name": "python",
   "nbconvert_exporter": "python",
   "pygments_lexer": "ipython3",
   "version": "3.9.12"
  }
 },
 "nbformat": 4,
 "nbformat_minor": 5
}
