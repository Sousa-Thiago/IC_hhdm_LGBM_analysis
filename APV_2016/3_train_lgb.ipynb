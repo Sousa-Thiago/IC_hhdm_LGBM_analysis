{
 "cells": [
  {
   "cell_type": "markdown",
   "id": "260f9f0b",
   "metadata": {},
   "source": [
    "# Bibliotecas "
   ]
  },
  {
   "cell_type": "code",
   "execution_count": 1,
   "id": "3a90ee42",
   "metadata": {},
   "outputs": [],
   "source": [
    "import sys\n",
    "sys.path.append('/eos/user/t/thenriqu/Dark_Matter/LGBM_hhdm_analysis/')\n",
    "\n",
    "\n",
    "import json\n",
    "from pathlib import Path\n",
    "\n",
    "import pandas as pd\n",
    "import matplotlib.pyplot as plt\n",
    "\n",
    "import hepherolib.analysis as ana\n",
    "from lgbm.controllers_lgb import LGBLearner, LGBModel\n",
    "\n",
    "ana.start()\n",
    "plt.style.use(\"default\")"
   ]
  },
  {
   "cell_type": "markdown",
   "id": "0570d40c",
   "metadata": {},
   "source": [
    "# Configuração"
   ]
  },
  {
   "cell_type": "code",
   "execution_count": 2,
   "id": "c4d4b5f6",
   "metadata": {},
   "outputs": [],
   "source": [
    "period = 'APV_16'\n",
    "year_style = 2016\n",
    "dataset_year = \"APV_2016\"\n",
    "basedir = '/eos/user/t/thenriqu/Dark_Matter/Amostras/hhdmAnalysis_deepJet_Regions/datasets'\n",
    "dataset_name = basedir.split('/')[-2]\n",
    "\n",
    "# Data folder\n",
    "data_path = f\"./data/{dataset_name}/{dataset_year}\"\n",
    "\n",
    "# Setup output folders\n",
    "models_path = f\"./models/{dataset_name}/{dataset_year}\"\n",
    "Path(models_path).mkdir(parents=True, exist_ok=True)"
   ]
  },
  {
   "cell_type": "markdown",
   "id": "687524f3",
   "metadata": {},
   "source": [
    "# Lendo os dados"
   ]
  },
  {
   "cell_type": "code",
   "execution_count": 3,
   "id": "aee38ea9",
   "metadata": {},
   "outputs": [],
   "source": [
    "model_name = \"LGB_multi_signal\"\n",
    "\n",
    "X_train = pd.read_csv(f\"{data_path}/{model_name}-train-data.csv\")\n",
    "X_test = pd.read_csv(f\"{data_path}/{model_name}-test-data.csv\")\n",
    "\n",
    "W_train = X_train.pop(\"modelWeight\").values\n",
    "W_test = X_test.pop(\"modelWeight\").values\n",
    "\n",
    "Y_train = X_train.pop(\"Label\").values\n",
    "Y_test = X_test.pop(\"Label\").values\n",
    "\n",
    "evtWeight_train = X_train.pop(\"evtWeight\").values\n",
    "evtWeight_test = X_test.pop(\"evtWeight\").values"
   ]
  },
  {
   "cell_type": "code",
   "execution_count": 4,
   "id": "36042acb",
   "metadata": {
    "scrolled": false
   },
   "outputs": [
    {
     "data": {
      "text/html": [
       "<div>\n",
       "<style scoped>\n",
       "    .dataframe tbody tr th:only-of-type {\n",
       "        vertical-align: middle;\n",
       "    }\n",
       "\n",
       "    .dataframe tbody tr th {\n",
       "        vertical-align: top;\n",
       "    }\n",
       "\n",
       "    .dataframe thead th {\n",
       "        text-align: right;\n",
       "    }\n",
       "</style>\n",
       "<table border=\"1\" class=\"dataframe\">\n",
       "  <thead>\n",
       "    <tr style=\"text-align: right;\">\n",
       "      <th></th>\n",
       "      <th>LeadingLep_pt</th>\n",
       "      <th>LepLep_deltaM</th>\n",
       "      <th>LepLep_deltaR</th>\n",
       "      <th>LepLep_pt</th>\n",
       "      <th>MET_LepLep_Mt</th>\n",
       "      <th>MET_LepLep_deltaPhi</th>\n",
       "      <th>MET_pt</th>\n",
       "      <th>MT2LL</th>\n",
       "      <th>Nbjets</th>\n",
       "      <th>TrailingLep_pt</th>\n",
       "    </tr>\n",
       "  </thead>\n",
       "  <tbody>\n",
       "    <tr>\n",
       "      <th>0</th>\n",
       "      <td>127.877914</td>\n",
       "      <td>5.665382</td>\n",
       "      <td>1.004920</td>\n",
       "      <td>184.44044</td>\n",
       "      <td>197.350770</td>\n",
       "      <td>2.764841</td>\n",
       "      <td>54.709740</td>\n",
       "      <td>96.820950</td>\n",
       "      <td>1</td>\n",
       "      <td>77.357370</td>\n",
       "    </tr>\n",
       "    <tr>\n",
       "      <th>1</th>\n",
       "      <td>113.009460</td>\n",
       "      <td>3.599693</td>\n",
       "      <td>1.009094</td>\n",
       "      <td>178.61588</td>\n",
       "      <td>147.659620</td>\n",
       "      <td>1.591687</td>\n",
       "      <td>59.785347</td>\n",
       "      <td>63.220463</td>\n",
       "      <td>1</td>\n",
       "      <td>79.000790</td>\n",
       "    </tr>\n",
       "    <tr>\n",
       "      <th>2</th>\n",
       "      <td>97.949240</td>\n",
       "      <td>22.735489</td>\n",
       "      <td>2.811170</td>\n",
       "      <td>67.28066</td>\n",
       "      <td>119.337814</td>\n",
       "      <td>3.041180</td>\n",
       "      <td>53.051918</td>\n",
       "      <td>14.674115</td>\n",
       "      <td>1</td>\n",
       "      <td>33.556896</td>\n",
       "    </tr>\n",
       "    <tr>\n",
       "      <th>3</th>\n",
       "      <td>311.434630</td>\n",
       "      <td>4.510574</td>\n",
       "      <td>0.451174</td>\n",
       "      <td>423.52713</td>\n",
       "      <td>882.859400</td>\n",
       "      <td>3.096336</td>\n",
       "      <td>460.324680</td>\n",
       "      <td>393.019100</td>\n",
       "      <td>1</td>\n",
       "      <td>120.251110</td>\n",
       "    </tr>\n",
       "    <tr>\n",
       "      <th>4</th>\n",
       "      <td>144.094960</td>\n",
       "      <td>24.149925</td>\n",
       "      <td>2.172507</td>\n",
       "      <td>130.71048</td>\n",
       "      <td>313.220800</td>\n",
       "      <td>2.877176</td>\n",
       "      <td>190.960710</td>\n",
       "      <td>61.069447</td>\n",
       "      <td>2</td>\n",
       "      <td>28.793385</td>\n",
       "    </tr>\n",
       "  </tbody>\n",
       "</table>\n",
       "</div>"
      ],
      "text/plain": [
       "   LeadingLep_pt  LepLep_deltaM  LepLep_deltaR  LepLep_pt  MET_LepLep_Mt  MET_LepLep_deltaPhi      MET_pt       MT2LL  Nbjets  TrailingLep_pt\n",
       "0     127.877914       5.665382       1.004920  184.44044     197.350770             2.764841   54.709740   96.820950       1       77.357370\n",
       "1     113.009460       3.599693       1.009094  178.61588     147.659620             1.591687   59.785347   63.220463       1       79.000790\n",
       "2      97.949240      22.735489       2.811170   67.28066     119.337814             3.041180   53.051918   14.674115       1       33.556896\n",
       "3     311.434630       4.510574       0.451174  423.52713     882.859400             3.096336  460.324680  393.019100       1      120.251110\n",
       "4     144.094960      24.149925       2.172507  130.71048     313.220800             2.877176  190.960710   61.069447       2       28.793385"
      ]
     },
     "execution_count": 4,
     "metadata": {},
     "output_type": "execute_result"
    }
   ],
   "source": [
    "X_train.head()"
   ]
  },
  {
   "cell_type": "code",
   "execution_count": 5,
   "id": "f07f70b2",
   "metadata": {},
   "outputs": [
    {
     "data": {
      "text/plain": [
       "array([1.24207517e+00, 7.10710006e-04, 1.56460205e+00, ...,\n",
       "       2.76548358e-01, 1.13629105e-03, 1.06929979e-01])"
      ]
     },
     "execution_count": 5,
     "metadata": {},
     "output_type": "execute_result"
    }
   ],
   "source": [
    "W_train"
   ]
  },
  {
   "cell_type": "code",
   "execution_count": 6,
   "id": "7339a84a",
   "metadata": {},
   "outputs": [
    {
     "data": {
      "text/plain": [
       "array([0, 0, 0, ..., 0, 0, 0])"
      ]
     },
     "execution_count": 6,
     "metadata": {},
     "output_type": "execute_result"
    }
   ],
   "source": [
    "Y_train"
   ]
  },
  {
   "cell_type": "markdown",
   "id": "58e6a795",
   "metadata": {},
   "source": [
    "# Train"
   ]
  },
  {
   "cell_type": "code",
   "execution_count": 7,
   "id": "17d584f5",
   "metadata": {},
   "outputs": [],
   "source": [
    "path1 = '/eos/user/t/thenriqu/Dark_Matter/LGBM_hhdm_analysis/Analysis_Regions/Analysis_2018/models/hhdmAnalysis_deepJet_Regions/2018/'\n"
   ]
  },
  {
   "cell_type": "code",
   "execution_count": 8,
   "id": "d674c48d",
   "metadata": {},
   "outputs": [
    {
     "name": "stdout",
     "output_type": "stream",
     "text": [
      "{'subsample': 0.9, 'n_estimators': 9000, 'min_child_weight': 6, 'min_child_samples': 100, 'max_depth': 9, 'learning_rate': 0.008, 'eval_metric': 'error', 'colsample_bytree': 0.8}\n"
     ]
    }
   ],
   "source": [
    "with open(path1 + 'LGB_multi_signal-bst-params.json', 'r') as f:\n",
    "    best_params = json.load(f)\n",
    "\n",
    "print(best_params)"
   ]
  },
  {
   "cell_type": "code",
   "execution_count": 10,
   "id": "b2924947",
   "metadata": {
    "scrolled": true
   },
   "outputs": [
    {
     "name": "stdout",
     "output_type": "stream",
     "text": [
      "[LightGBM] [Warning] Unknown parameter: eval_metric\n",
      "[LightGBM] [Warning] Accuracy may be bad since you didn't explicitly set num_leaves OR 2^max_depth > num_leaves. (num_leaves=31).\n",
      "[LightGBM] [Warning] Unknown parameter: eval_metric\n",
      "[LightGBM] [Warning] Accuracy may be bad since you didn't explicitly set num_leaves OR 2^max_depth > num_leaves. (num_leaves=31).\n",
      "[LightGBM] [Info] Auto-choosing row-wise multi-threading, the overhead of testing was 0.002891 seconds.\n",
      "You can set `force_row_wise=true` to remove the overhead.\n",
      "And if memory is not enough, you can set `force_col_wise=true`.\n",
      "[LightGBM] [Info] Total Bins 2302\n",
      "[LightGBM] [Info] Number of data points in the train set: 716588, number of used features: 10\n",
      "[LightGBM] [Info] Start training from score 0.666667\n"
     ]
    }
   ],
   "source": [
    "# params = { 'subsample': 0.9,\n",
    "#           'n_estimators': 9000,\n",
    "#           'min_child_weight': 6,\n",
    "#           'min_child_samples': 100,\n",
    "#           'max_depth': 9,\n",
    "#           'learning_rate': 0.008,\n",
    "#           'eval_metric': 'error',\n",
    "#           'colsample_bytree': 0.8\n",
    "# }\n",
    "\n",
    "# Pode se ler através do arquivos .json salvo no código 2_find_hyperparams_lgb.ipynb\n",
    "params = json.load(open(f\"{models_path}/{model_name}-bst-params.json\"))\n",
    "\n",
    "num_boost_round = params.pop('n_estimators')\n",
    "features = [\"LeadingLep_pt\", \"LepLep_pt\", \"LepLep_deltaR\", \"LepLep_deltaM\", \"MET_pt\", \"MET_LepLep_Mt\", \"MET_LepLep_deltaPhi\", \"TrailingLep_pt\", \"MT2LL\", \"Nbjets\"]\n",
    "\n",
    "learner = LGBLearner(X_train, Y_train, W_train, features)\n",
    "learner.train(params, num_boost_round)\n",
    "learner.save_model(f\"{models_path}/{model_name}-clf.model\")\n",
    "# learner.dump_model(f\"{models_path}/{model_name}-raw.model\")"
   ]
  },
  {
   "cell_type": "markdown",
   "id": "8091c262",
   "metadata": {},
   "source": [
    "# Nofiticar quando o Notebook terminar"
   ]
  },
  {
   "cell_type": "code",
   "execution_count": null,
   "id": "43bf915a",
   "metadata": {},
   "outputs": [],
   "source": [
    "from IPython.display import clear_output, display, HTML, Javascript\n",
    "\n",
    "display(Javascript(\"\"\"\n",
    "  var msg = new SpeechSynthesisUtterance();\n",
    "  msg.text = \"Processo Completo!\";\n",
    "  window.speechSynthesis.speak(msg);\n",
    "  alert(\"Processo Completo!\")\n",
    "\"\"\"))"
   ]
  },
  {
   "cell_type": "code",
   "execution_count": null,
   "id": "23bfe6ff",
   "metadata": {},
   "outputs": [],
   "source": []
  },
  {
   "cell_type": "code",
   "execution_count": null,
   "id": "fd651dcb",
   "metadata": {},
   "outputs": [],
   "source": []
  }
 ],
 "metadata": {
  "@webio": {
   "lastCommId": null,
   "lastKernelId": null
  },
  "kernelspec": {
   "display_name": "Python 3",
   "language": "python",
   "name": "python3"
  },
  "language_info": {
   "codemirror_mode": {
    "name": "ipython",
    "version": 3
   },
   "file_extension": ".py",
   "mimetype": "text/x-python",
   "name": "python",
   "nbconvert_exporter": "python",
   "pygments_lexer": "ipython3",
   "version": "3.9.12"
  }
 },
 "nbformat": 4,
 "nbformat_minor": 5
}
