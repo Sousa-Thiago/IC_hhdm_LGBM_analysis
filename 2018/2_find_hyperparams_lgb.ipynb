{
 "cells": [
  {
   "cell_type": "markdown",
   "id": "b2bad875",
   "metadata": {},
   "source": [
    "# Bibliotecas"
   ]
  },
  {
   "cell_type": "code",
   "execution_count": null,
   "id": "ce10a677",
   "metadata": {},
   "outputs": [],
   "source": [
    "import sys\n",
    "\n",
    "sys.path.append('/eos/user/t/thenriqu/Dark_Matter/LGBM_hhdm_analysis/')\n",
    "\n",
    "\n",
    "import json\n",
    "from pathlib import Path\n",
    "\n",
    "import numpy as np\n",
    "import pandas as pd\n",
    "import matplotlib.pyplot as plt\n",
    "import hepherolib.analysis as ana\n",
    "\n",
    "from lgbm.controllers_lgbm import LGBLearner, LGBModel\n",
    "\n",
    "ana.start()\n",
    "plt.style.use(\"default\")"
   ]
  },
  {
   "cell_type": "markdown",
   "id": "1f6669d8",
   "metadata": {},
   "source": [
    "# Configuração"
   ]
  },
  {
   "cell_type": "code",
   "execution_count": null,
   "id": "8c1b6b42",
   "metadata": {},
   "outputs": [],
   "source": [
    "period = '18'\n",
    "year_style = 2018\n",
    "dataset_year = \"2018\"\n",
    "basedir = '/eos/user/t/thenriqu/Dark_Matter/Amostras/hhdmAnalysis_deepJet_Regions/datasets'\n",
    "dataset_name = basedir.split('/')[-2]\n",
    "\n",
    "# Data folder\n",
    "data_path = f\"./data/{dataset_name}/{dataset_year}\"\n",
    "\n",
    "# Setup output folders\n",
    "models_path = f\"./models/{dataset_name}/{dataset_year}\"\n",
    "Path(models_path).mkdir(parents=True, exist_ok=True)"
   ]
  },
  {
   "cell_type": "markdown",
   "id": "63802157",
   "metadata": {},
   "source": [
    "# Lendo os dados"
   ]
  },
  {
   "cell_type": "code",
   "execution_count": null,
   "id": "c572477b",
   "metadata": {},
   "outputs": [],
   "source": [
    "model_name = \"LGB_multi_signal\"\n",
    "\n",
    "X_train = pd.read_csv(f\"{data_path}/{model_name}-train-data.csv\")\n",
    "X_test = pd.read_csv(f\"{data_path}/{model_name}-test-data.csv\")\n",
    "W_train = X_train.pop(\"modelWeight\").values\n",
    "W_test = X_test.pop(\"modelWeight\").values\n",
    "Y_train = X_train.pop(\"Label\").values\n",
    "Y_test = X_test.pop(\"Label\").values\n",
    "evtWeight_train = X_train.pop(\"evtWeight\").values\n",
    "evtWeight_test = X_test.pop(\"evtWeight\").values"
   ]
  },
  {
   "cell_type": "code",
   "execution_count": 18,
   "id": "1d959e51",
   "metadata": {},
   "outputs": [
    {
     "data": {
      "text/html": [
       "<div>\n",
       "<style scoped>\n",
       "    .dataframe tbody tr th:only-of-type {\n",
       "        vertical-align: middle;\n",
       "    }\n",
       "\n",
       "    .dataframe tbody tr th {\n",
       "        vertical-align: top;\n",
       "    }\n",
       "\n",
       "    .dataframe thead th {\n",
       "        text-align: right;\n",
       "    }\n",
       "</style>\n",
       "<table border=\"1\" class=\"dataframe\">\n",
       "  <thead>\n",
       "    <tr style=\"text-align: right;\">\n",
       "      <th></th>\n",
       "      <th>LeadingLep_pt</th>\n",
       "      <th>LepLep_deltaM</th>\n",
       "      <th>LepLep_deltaR</th>\n",
       "      <th>LepLep_pt</th>\n",
       "      <th>MET_LepLep_Mt</th>\n",
       "      <th>MET_LepLep_deltaPhi</th>\n",
       "      <th>MET_pt</th>\n",
       "      <th>MT2LL</th>\n",
       "      <th>Nbjets</th>\n",
       "      <th>TrailingLep_pt</th>\n",
       "    </tr>\n",
       "  </thead>\n",
       "  <tbody>\n",
       "    <tr>\n",
       "      <th>0</th>\n",
       "      <td>69.883340</td>\n",
       "      <td>0.582565</td>\n",
       "      <td>3.027906</td>\n",
       "      <td>40.11211</td>\n",
       "      <td>254.935670</td>\n",
       "      <td>2.920919</td>\n",
       "      <td>410.037570</td>\n",
       "      <td>26.969410</td>\n",
       "      <td>1</td>\n",
       "      <td>30.125252</td>\n",
       "    </tr>\n",
       "    <tr>\n",
       "      <th>1</th>\n",
       "      <td>114.942566</td>\n",
       "      <td>18.834435</td>\n",
       "      <td>1.757877</td>\n",
       "      <td>129.69420</td>\n",
       "      <td>122.296120</td>\n",
       "      <td>1.108255</td>\n",
       "      <td>104.121475</td>\n",
       "      <td>6.398953</td>\n",
       "      <td>2</td>\n",
       "      <td>33.967537</td>\n",
       "    </tr>\n",
       "    <tr>\n",
       "      <th>2</th>\n",
       "      <td>82.652370</td>\n",
       "      <td>5.285355</td>\n",
       "      <td>1.379278</td>\n",
       "      <td>118.73953</td>\n",
       "      <td>174.272480</td>\n",
       "      <td>2.980687</td>\n",
       "      <td>64.360050</td>\n",
       "      <td>85.835240</td>\n",
       "      <td>1</td>\n",
       "      <td>68.045020</td>\n",
       "    </tr>\n",
       "    <tr>\n",
       "      <th>3</th>\n",
       "      <td>245.787770</td>\n",
       "      <td>6.339325</td>\n",
       "      <td>0.763112</td>\n",
       "      <td>287.61877</td>\n",
       "      <td>274.435100</td>\n",
       "      <td>2.785732</td>\n",
       "      <td>67.581020</td>\n",
       "      <td>105.534900</td>\n",
       "      <td>1</td>\n",
       "      <td>51.919327</td>\n",
       "    </tr>\n",
       "    <tr>\n",
       "      <th>4</th>\n",
       "      <td>191.795600</td>\n",
       "      <td>3.473717</td>\n",
       "      <td>0.850083</td>\n",
       "      <td>240.17885</td>\n",
       "      <td>97.727554</td>\n",
       "      <td>0.878454</td>\n",
       "      <td>54.975773</td>\n",
       "      <td>22.928760</td>\n",
       "      <td>1</td>\n",
       "      <td>55.084420</td>\n",
       "    </tr>\n",
       "  </tbody>\n",
       "</table>\n",
       "</div>"
      ],
      "text/plain": [
       "   LeadingLep_pt  LepLep_deltaM  LepLep_deltaR  LepLep_pt  MET_LepLep_Mt  MET_LepLep_deltaPhi      MET_pt       MT2LL  Nbjets  TrailingLep_pt\n",
       "0      69.883340       0.582565       3.027906   40.11211     254.935670             2.920919  410.037570   26.969410       1       30.125252\n",
       "1     114.942566      18.834435       1.757877  129.69420     122.296120             1.108255  104.121475    6.398953       2       33.967537\n",
       "2      82.652370       5.285355       1.379278  118.73953     174.272480             2.980687   64.360050   85.835240       1       68.045020\n",
       "3     245.787770       6.339325       0.763112  287.61877     274.435100             2.785732   67.581020  105.534900       1       51.919327\n",
       "4     191.795600       3.473717       0.850083  240.17885      97.727554             0.878454   54.975773   22.928760       1       55.084420"
      ]
     },
     "execution_count": 18,
     "metadata": {},
     "output_type": "execute_result"
    }
   ],
   "source": [
    "X_train.head()"
   ]
  },
  {
   "cell_type": "code",
   "execution_count": null,
   "id": "0e76ce23",
   "metadata": {},
   "outputs": [],
   "source": [
    "W_train"
   ]
  },
  {
   "cell_type": "code",
   "execution_count": null,
   "id": "944394f5",
   "metadata": {},
   "outputs": [],
   "source": [
    "Y_train"
   ]
  },
  {
   "cell_type": "markdown",
   "id": "db5af772",
   "metadata": {},
   "source": [
    "# Procura por Hiperparametros"
   ]
  },
  {
   "cell_type": "markdown",
   "id": "36038a8c",
   "metadata": {},
   "source": [
    "#### Usado pelo Macedo - LGBMClassifier\n",
    "\n",
    "n_iter = 150\n",
    "cv = 2\n",
    "param_grid = {\n",
    "    'learning_rate': [0.008, 0.0004],\n",
    "    'n_estimators': [900, 1000],\n",
    "    'num_leaves': [24,128,62],\n",
    "    'min_child_samples':[100,400,800],\n",
    "    'subsample':[1,0.9, 0.8],\n",
    "    'colsample_bytree':[0.9,0.8,0.2],\n",
    "    'objective': ['multiclass'],\n",
    "    'metric': ['multi_logloss'],\n",
    "    'num_class':[3],\n",
    "    'boosting_typ’: [‘gbdt’]\n",
    "    'feature_pre_filter': ['False']\n",
    "}\n",
    "\n",
    "\n",
    "\n",
    "\n",
    "#### Usado pelo Gabriel: XGBoostClassifier\n",
    "\n",
    "\n",
    "params = {\n",
    "    'n_estimators': [100, 500, 1000, 2000, 3000, 5000, 7000, 9000],\n",
    "    'min_child_weight': range(1,10),\n",
    "    'learning_rate': [1e-3, 1e-2, 1e-1, 0.3, 0.5, 0.7, 0.9, 1.],\n",
    "    'subsample': np.arange(0.50, 1.01, 0.05),\n",
    "    'colsample_bytree': np.arange(0.50, 1.01, 0.05),\n",
    "    'max_depth': range(3,11),\n",
    "    'eval_metric': ['logloss', 'error']\n",
    "}\n",
    "\n",
    "\n",
    "\n",
    "\n",
    "\n",
    "\n",
    "#### Usado pelo Thiago ( Eu ): vottingclassifier \n",
    "\n",
    "\n",
    "log_clf = LogisticRegression(solver = 'newton-cg', random_state = 42)\n",
    "rnd_clf = XGBClassifier( objective = 'multiclass', n_estimators = 4000, learning_rate = 0.001, random_state = 42)\n",
    "lgbm_clf = LGBMClassifier(objective = 'multiclass',  num_class = 3, n_estimators = 4000, metric = 'multi_logloss', learning_rate = 0.001, boosting_type = 'gbdt', random_state = 42)\n",
    "\n",
    "voting_clf_soft = VotingClassifier(\n",
    "    estimators=[('lr', log_clf), ('rf', rnd_clf), ('lgbm', lgbm_clf)],\n",
    "    voting='soft')\n",
    "\n"
   ]
  },
  {
   "cell_type": "code",
   "execution_count": null,
   "id": "3b6778c6",
   "metadata": {},
   "outputs": [],
   "source": [
    "\n",
    "params = {\n",
    "    'n_estimators': [900, 1000, 5000, 7000, 9000],\n",
    "    'min_child_weight': range(1,10),\n",
    "    'min_child_samples': [100, 400, 800],\n",
    "    'learning_rate': [0.001, 0.004, 0.008],\n",
    "    'subsample': [1, 0.9, 0.8],\n",
    "    'colsample_bytree': [0.9, 0.8, 0.2],\n",
    "#     'colsample_bytree': np.arange(0.50, 1.01, 0.05),\n",
    "#     'subsample': np.arange(0.50, 1.01, 0.05),\n",
    "    'max_depth': range(3,11),\n",
    "    'eval_metric': ['logloss', 'error']\n",
    "}\n",
    "\n",
    "\n",
    "\n",
    "learner = LGBLearner(X_train, Y_train, W_train, njobs=12)\n",
    "res = learner.find_hyperparams(hyperparams_grid=params, n_splits=5, n_iter=30)\n"
   ]
  },
  {
   "cell_type": "markdown",
   "id": "815d3986",
   "metadata": {},
   "source": [
    "# Salvando os Parametros"
   ]
  },
  {
   "cell_type": "code",
   "execution_count": null,
   "id": "b5d6541b",
   "metadata": {},
   "outputs": [],
   "source": [
    "with open(f'{models_path}/{model_name}-bst-params.json', 'w') as f:\n",
    "    json.dump(res['hyperparameters'], f, ensure_ascii=False, indent=4)"
   ]
  },
  {
   "cell_type": "markdown",
   "id": "31a8b03b",
   "metadata": {},
   "source": [
    "# Noficação Quando o Notebook terminar de compilar"
   ]
  },
  {
   "cell_type": "code",
   "execution_count": null,
   "id": "a92cf601",
   "metadata": {},
   "outputs": [],
   "source": [
    "from IPython.display import clear_output, display, HTML, Javascript\n",
    "\n",
    "display(Javascript(\"\"\"\n",
    "  var msg = new SpeechSynthesisUtterance();\n",
    "  msg.text = \"Process completed!\";\n",
    "  window.speechSynthesis.speak(msg);\n",
    "  alert(\"Process completed!\")\n",
    "\"\"\"))"
   ]
  },
  {
   "cell_type": "code",
   "execution_count": null,
   "id": "76ada82d",
   "metadata": {},
   "outputs": [],
   "source": []
  }
 ],
 "metadata": {
  "@webio": {
   "lastCommId": null,
   "lastKernelId": null
  },
  "kernelspec": {
   "display_name": "Python 3",
   "language": "python",
   "name": "python3"
  },
  "language_info": {
   "codemirror_mode": {
    "name": "ipython",
    "version": 3
   },
   "file_extension": ".py",
   "mimetype": "text/x-python",
   "name": "python",
   "nbconvert_exporter": "python",
   "pygments_lexer": "ipython3",
   "version": "3.9.12"
  }
 },
 "nbformat": 4,
 "nbformat_minor": 5
}
