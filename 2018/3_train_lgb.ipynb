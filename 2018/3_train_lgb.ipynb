{
 "cells": [
  {
   "cell_type": "markdown",
   "id": "260f9f0b",
   "metadata": {},
   "source": [
    "# Bibliotecas "
   ]
  },
  {
   "cell_type": "code",
   "execution_count": 1,
   "id": "3a90ee42",
   "metadata": {},
   "outputs": [],
   "source": [
    "import sys\n",
    "sys.path.append('/eos/user/t/thenriqu/Dark_Matter/LGBM_hhdm_analysis/')\n",
    "\n",
    "\n",
    "import json\n",
    "from pathlib import Path\n",
    "\n",
    "import pandas as pd\n",
    "import matplotlib.pyplot as plt\n",
    "\n",
    "import hepherolib.analysis as ana\n",
    "from lgbm.controllers_lgb import LGBLearner, LGBModel\n",
    "\n",
    "ana.start()\n",
    "plt.style.use(\"default\")"
   ]
  },
  {
   "cell_type": "markdown",
   "id": "0570d40c",
   "metadata": {},
   "source": [
    "# Configuração"
   ]
  },
  {
   "cell_type": "code",
   "execution_count": 2,
   "id": "c4d4b5f6",
   "metadata": {},
   "outputs": [],
   "source": [
    "period = '18'\n",
    "year_style = 2018\n",
    "dataset_year = \"2018\"\n",
    "basedir = '/eos/user/t/thenriqu/Dark_Matter/Amostras/hhdmAnalysis_deepJet_Regions/datasets'\n",
    "dataset_name = basedir.split('/')[-2]\n",
    "\n",
    "# Data folder\n",
    "data_path = f\"./data/{dataset_name}/{dataset_year}\"\n",
    "\n",
    "# Setup output folders\n",
    "models_path = f\"./models/{dataset_name}/{dataset_year}\"\n",
    "Path(models_path).mkdir(parents=True, exist_ok=True)"
   ]
  },
  {
   "cell_type": "markdown",
   "id": "687524f3",
   "metadata": {},
   "source": [
    "# Lendo os dados"
   ]
  },
  {
   "cell_type": "code",
   "execution_count": 3,
   "id": "aee38ea9",
   "metadata": {},
   "outputs": [],
   "source": [
    "model_name = \"LGB_multi_signal\"\n",
    "\n",
    "X_train = pd.read_csv(f\"{data_path}/{model_name}-train-data.csv\")\n",
    "X_test = pd.read_csv(f\"{data_path}/{model_name}-test-data.csv\")\n",
    "\n",
    "W_train = X_train.pop(\"modelWeight\").values\n",
    "W_test = X_test.pop(\"modelWeight\").values\n",
    "\n",
    "Y_train = X_train.pop(\"Label\").values\n",
    "Y_test = X_test.pop(\"Label\").values\n",
    "\n",
    "evtWeight_train = X_train.pop(\"evtWeight\").values\n",
    "evtWeight_test = X_test.pop(\"evtWeight\").values"
   ]
  },
  {
   "cell_type": "code",
   "execution_count": 4,
   "id": "36042acb",
   "metadata": {
    "scrolled": false
   },
   "outputs": [
    {
     "data": {
      "text/html": [
       "<div>\n",
       "<style scoped>\n",
       "    .dataframe tbody tr th:only-of-type {\n",
       "        vertical-align: middle;\n",
       "    }\n",
       "\n",
       "    .dataframe tbody tr th {\n",
       "        vertical-align: top;\n",
       "    }\n",
       "\n",
       "    .dataframe thead th {\n",
       "        text-align: right;\n",
       "    }\n",
       "</style>\n",
       "<table border=\"1\" class=\"dataframe\">\n",
       "  <thead>\n",
       "    <tr style=\"text-align: right;\">\n",
       "      <th></th>\n",
       "      <th>LeadingLep_pt</th>\n",
       "      <th>LepLep_deltaM</th>\n",
       "      <th>LepLep_deltaR</th>\n",
       "      <th>LepLep_pt</th>\n",
       "      <th>MET_LepLep_Mt</th>\n",
       "      <th>MET_LepLep_deltaPhi</th>\n",
       "      <th>MET_pt</th>\n",
       "      <th>MT2LL</th>\n",
       "      <th>Nbjets</th>\n",
       "      <th>TrailingLep_pt</th>\n",
       "    </tr>\n",
       "  </thead>\n",
       "  <tbody>\n",
       "    <tr>\n",
       "      <th>0</th>\n",
       "      <td>69.883340</td>\n",
       "      <td>0.582565</td>\n",
       "      <td>3.027906</td>\n",
       "      <td>40.11211</td>\n",
       "      <td>254.935670</td>\n",
       "      <td>2.920919</td>\n",
       "      <td>410.037570</td>\n",
       "      <td>26.969410</td>\n",
       "      <td>1</td>\n",
       "      <td>30.125252</td>\n",
       "    </tr>\n",
       "    <tr>\n",
       "      <th>1</th>\n",
       "      <td>114.942566</td>\n",
       "      <td>18.834435</td>\n",
       "      <td>1.757877</td>\n",
       "      <td>129.69420</td>\n",
       "      <td>122.296120</td>\n",
       "      <td>1.108255</td>\n",
       "      <td>104.121475</td>\n",
       "      <td>6.398953</td>\n",
       "      <td>2</td>\n",
       "      <td>33.967537</td>\n",
       "    </tr>\n",
       "    <tr>\n",
       "      <th>2</th>\n",
       "      <td>82.652370</td>\n",
       "      <td>5.285355</td>\n",
       "      <td>1.379278</td>\n",
       "      <td>118.73953</td>\n",
       "      <td>174.272480</td>\n",
       "      <td>2.980687</td>\n",
       "      <td>64.360050</td>\n",
       "      <td>85.835240</td>\n",
       "      <td>1</td>\n",
       "      <td>68.045020</td>\n",
       "    </tr>\n",
       "    <tr>\n",
       "      <th>3</th>\n",
       "      <td>245.787770</td>\n",
       "      <td>6.339325</td>\n",
       "      <td>0.763112</td>\n",
       "      <td>287.61877</td>\n",
       "      <td>274.435100</td>\n",
       "      <td>2.785732</td>\n",
       "      <td>67.581020</td>\n",
       "      <td>105.534900</td>\n",
       "      <td>1</td>\n",
       "      <td>51.919327</td>\n",
       "    </tr>\n",
       "    <tr>\n",
       "      <th>4</th>\n",
       "      <td>191.795600</td>\n",
       "      <td>3.473717</td>\n",
       "      <td>0.850083</td>\n",
       "      <td>240.17885</td>\n",
       "      <td>97.727554</td>\n",
       "      <td>0.878454</td>\n",
       "      <td>54.975773</td>\n",
       "      <td>22.928760</td>\n",
       "      <td>1</td>\n",
       "      <td>55.084420</td>\n",
       "    </tr>\n",
       "  </tbody>\n",
       "</table>\n",
       "</div>"
      ],
      "text/plain": [
       "   LeadingLep_pt  LepLep_deltaM  LepLep_deltaR  LepLep_pt  MET_LepLep_Mt  MET_LepLep_deltaPhi      MET_pt       MT2LL  Nbjets  TrailingLep_pt\n",
       "0      69.883340       0.582565       3.027906   40.11211     254.935670             2.920919  410.037570   26.969410       1       30.125252\n",
       "1     114.942566      18.834435       1.757877  129.69420     122.296120             1.108255  104.121475    6.398953       2       33.967537\n",
       "2      82.652370       5.285355       1.379278  118.73953     174.272480             2.980687   64.360050   85.835240       1       68.045020\n",
       "3     245.787770       6.339325       0.763112  287.61877     274.435100             2.785732   67.581020  105.534900       1       51.919327\n",
       "4     191.795600       3.473717       0.850083  240.17885      97.727554             0.878454   54.975773   22.928760       1       55.084420"
      ]
     },
     "execution_count": 4,
     "metadata": {},
     "output_type": "execute_result"
    }
   ],
   "source": [
    "X_train.head()"
   ]
  },
  {
   "cell_type": "code",
   "execution_count": 5,
   "id": "f07f70b2",
   "metadata": {},
   "outputs": [
    {
     "data": {
      "text/plain": [
       "array([1.41542031e-03, 1.03120503e-03, 3.54095349e-01, ...,\n",
       "       1.72266674e-01, 5.73742776e+00, 2.18001609e-02])"
      ]
     },
     "execution_count": 5,
     "metadata": {},
     "output_type": "execute_result"
    }
   ],
   "source": [
    "W_train"
   ]
  },
  {
   "cell_type": "code",
   "execution_count": 6,
   "id": "7339a84a",
   "metadata": {},
   "outputs": [
    {
     "data": {
      "text/plain": [
       "array([0, 0, 0, ..., 0, 1, 0])"
      ]
     },
     "execution_count": 6,
     "metadata": {},
     "output_type": "execute_result"
    }
   ],
   "source": [
    "Y_train"
   ]
  },
  {
   "cell_type": "markdown",
   "id": "58e6a795",
   "metadata": {},
   "source": [
    "# Train"
   ]
  },
  {
   "cell_type": "code",
   "execution_count": 7,
   "id": "17d584f5",
   "metadata": {},
   "outputs": [],
   "source": [
    "path1 = '/eos/user/t/thenriqu/Dark_Matter/LGBM_hhdm_analysis/Analysis_Regions/Analysis_2018/models/hhdmAnalysis_deepJet_Regions/2018/'\n"
   ]
  },
  {
   "cell_type": "code",
   "execution_count": 8,
   "id": "d674c48d",
   "metadata": {},
   "outputs": [
    {
     "name": "stdout",
     "output_type": "stream",
     "text": [
      "{'subsample': 0.9, 'n_estimators': 9000, 'min_child_weight': 6, 'min_child_samples': 100, 'max_depth': 9, 'learning_rate': 0.008, 'eval_metric': 'error', 'colsample_bytree': 0.8}\n"
     ]
    }
   ],
   "source": [
    "with open(path1 + 'LGB_multi_signal-bst-params.json', 'r') as f:\n",
    "    best_params = json.load(f)\n",
    "\n",
    "print(best_params)"
   ]
  },
  {
   "cell_type": "code",
   "execution_count": 9,
   "id": "b2924947",
   "metadata": {
    "scrolled": true
   },
   "outputs": [
    {
     "name": "stdout",
     "output_type": "stream",
     "text": [
      "[LightGBM] [Warning] Unknown parameter: eval_metric\n",
      "[LightGBM] [Warning] Accuracy may be bad since you didn't explicitly set num_leaves OR 2^max_depth > num_leaves. (num_leaves=31).\n",
      "[LightGBM] [Warning] Unknown parameter: eval_metric\n",
      "[LightGBM] [Warning] Accuracy may be bad since you didn't explicitly set num_leaves OR 2^max_depth > num_leaves. (num_leaves=31).\n",
      "[LightGBM] [Info] Auto-choosing row-wise multi-threading, the overhead of testing was 0.009961 seconds.\n",
      "You can set `force_row_wise=true` to remove the overhead.\n",
      "And if memory is not enough, you can set `force_col_wise=true`.\n",
      "[LightGBM] [Info] Total Bins 2302\n",
      "[LightGBM] [Info] Number of data points in the train set: 2183562, number of used features: 10\n",
      "[LightGBM] [Info] Start training from score 0.666667\n"
     ]
    }
   ],
   "source": [
    "params = { 'subsample': 0.9,\n",
    "          'n_estimators': 9000,\n",
    "          'min_child_weight': 6,\n",
    "          'min_child_samples': 100,\n",
    "          'max_depth': 9,\n",
    "          'learning_rate': 0.008,\n",
    "          'eval_metric': 'error',\n",
    "          'colsample_bytree': 0.8\n",
    "}\n",
    "\n",
    "# Pode se ler através do arquivos .json salvo no código 2_find_hyperparams_lgb.ipynb\n",
    "# params = json.load(open(f\"{models_path}/{signal_name}-bst-params.json\"))\n",
    "\n",
    "num_boost_round = params.pop('n_estimators')\n",
    "features = [\"LeadingLep_pt\", \"LepLep_pt\", \"LepLep_deltaR\", \"LepLep_deltaM\", \"MET_pt\", \"MET_LepLep_Mt\", \"MET_LepLep_deltaPhi\", \"TrailingLep_pt\", \"MT2LL\", \"Nbjets\"]\n",
    "\n",
    "learner = LGBLearner(X_train, Y_train, W_train, features)\n",
    "learner.train(params, num_boost_round)\n",
    "learner.save_model(f\"{models_path}/{model_name}-clf.model\")\n",
    "# learner.dump_model(f\"{models_path}/{model_name}-raw.model\")"
   ]
  },
  {
   "cell_type": "markdown",
   "id": "8091c262",
   "metadata": {},
   "source": [
    "# Nofiticar quando o Notebook terminar"
   ]
  },
  {
   "cell_type": "code",
   "execution_count": 10,
   "id": "43bf915a",
   "metadata": {},
   "outputs": [
    {
     "data": {
      "application/javascript": [
       "\n",
       "  var msg = new SpeechSynthesisUtterance();\n",
       "  msg.text = \"Processo Completo!\";\n",
       "  window.speechSynthesis.speak(msg);\n",
       "  alert(\"Processo Completo!\")\n"
      ],
      "text/plain": [
       "<IPython.core.display.Javascript object>"
      ]
     },
     "metadata": {},
     "output_type": "display_data"
    }
   ],
   "source": [
    "from IPython.display import clear_output, display, HTML, Javascript\n",
    "\n",
    "display(Javascript(\"\"\"\n",
    "  var msg = new SpeechSynthesisUtterance();\n",
    "  msg.text = \"Processo Completo!\";\n",
    "  window.speechSynthesis.speak(msg);\n",
    "  alert(\"Processo Completo!\")\n",
    "\"\"\"))"
   ]
  },
  {
   "cell_type": "code",
   "execution_count": null,
   "id": "23bfe6ff",
   "metadata": {},
   "outputs": [],
   "source": []
  },
  {
   "cell_type": "code",
   "execution_count": null,
   "id": "57424b29",
   "metadata": {},
   "outputs": [],
   "source": []
  }
 ],
 "metadata": {
  "@webio": {
   "lastCommId": null,
   "lastKernelId": null
  },
  "kernelspec": {
   "display_name": "Python 3",
   "language": "python",
   "name": "python3"
  },
  "language_info": {
   "codemirror_mode": {
    "name": "ipython",
    "version": 3
   },
   "file_extension": ".py",
   "mimetype": "text/x-python",
   "name": "python",
   "nbconvert_exporter": "python",
   "pygments_lexer": "ipython3",
   "version": "3.9.12"
  }
 },
 "nbformat": 4,
 "nbformat_minor": 5
}
