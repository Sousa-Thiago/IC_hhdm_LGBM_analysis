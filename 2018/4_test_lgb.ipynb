{
 "cells": [
  {
   "cell_type": "markdown",
   "id": "967115ad",
   "metadata": {},
   "source": [
    "# Bibliotecas"
   ]
  },
  {
   "cell_type": "code",
   "execution_count": 1,
   "id": "b49e33f8",
   "metadata": {},
   "outputs": [],
   "source": [
    "import sys\n",
    "\n",
    "sys.path.append('/eos/user/t/thenriqu/Dark_Matter/LGBM_hhdm_analysis/')\n",
    "\n",
    "import json\n",
    "from pathlib import Path\n",
    "\n",
    "import numpy as np\n",
    "import pandas as pd\n",
    "import matplotlib.pyplot as plt\n",
    "import matplotlib.gridspec as gs\n",
    "import hepherolib.analysis as ana\n",
    "\n",
    "from lgbm.controllers_lgb_v2 import LGBLearner, LGBModel\n",
    "from lgbm.utils import model_performance, compute_purity_cutflow, compute_best_thr\n",
    "from hhdm_analysis.utils import position, signal_label\n",
    "\n",
    "ana.start()\n",
    "plt.style.use(\"default\")"
   ]
  },
  {
   "cell_type": "markdown",
   "id": "0c1744f6",
   "metadata": {},
   "source": [
    "# Configuração"
   ]
  },
  {
   "cell_type": "code",
   "execution_count": 2,
   "id": "fba6bb92",
   "metadata": {},
   "outputs": [],
   "source": [
    "period = '18'\n",
    "year_style = 2018\n",
    "dataset_year = \"2018\"\n",
    "basedir = '/eos/user/t/thenriqu/Dark_Matter/Amostras/hhdmAnalysis_deepJet_Regions/datasets'\n",
    "\n",
    "# Setup figure folders\n",
    "dataset_name = basedir.split('/')[-2]\n",
    "figures_path = f\"./figures/{dataset_name}/{dataset_year}/machine_learning\"\n",
    "Path(figures_path).mkdir(parents=True, exist_ok=True)\n",
    "\n",
    "# Data folder\n",
    "data_path = f\"./data/{dataset_name}/{dataset_year}\"\n",
    "Path(data_path).mkdir(parents=True, exist_ok=True)\n",
    "\n",
    "# Setup models folders\n",
    "models_path = f\"./models/{dataset_name}/{dataset_year}\"\n",
    "Path(models_path).mkdir(parents=True, exist_ok=True)"
   ]
  },
  {
   "cell_type": "markdown",
   "id": "60e55b1e",
   "metadata": {},
   "source": [
    "# Lendo Metadata"
   ]
  },
  {
   "cell_type": "code",
   "execution_count": 3,
   "id": "d774ffb0",
   "metadata": {},
   "outputs": [],
   "source": [
    "with open('/eos/user/t/thenriqu/Dark_Matter/metadata.json', 'r') as f:\n",
    "    metadata = json.load(f)"
   ]
  },
  {
   "cell_type": "markdown",
   "id": "864263de",
   "metadata": {},
   "source": [
    "# Lendo Dados e Modelo"
   ]
  },
  {
   "cell_type": "code",
   "execution_count": 4,
   "id": "9aebc494",
   "metadata": {},
   "outputs": [],
   "source": [
    "model_name = 'LGB_multi_signal'\n",
    "plot_label = 'Multi-signal'\n",
    "\n",
    "# Train and Test data\n",
    "X_train = pd.read_csv(f'{data_path}/{model_name}-train-data.csv')\n",
    "X_test = pd.read_csv(f'{data_path}/{model_name}-test-data.csv')\n",
    "\n",
    "W_train = X_train.pop('modelWeight').values\n",
    "W_test = X_test.pop('modelWeight').values\n",
    "\n",
    "Y_train = X_train.pop('Label').values\n",
    "Y_test = X_test.pop('Label').values\n",
    "\n",
    "evtWeight_train = X_train.pop('evtWeight').values\n",
    "evtWeight_teste = X_test.pop('evtWeight').values\n",
    "\n",
    "# Model\n",
    "features = [\"LeadingLep_pt\", \"LepLep_deltaM\", \"LepLep_deltaR\", \"LepLep_pt\", \"MET_LepLep_Mt\", \"MET_LepLep_deltaPhi\", \"MET_pt\", \"MT2LL\", \"Nbjets\", \"TrailingLep_pt\"]\n",
    "# model_path = f\"{models_path}/{model_name}-clf.model\"\n",
    "# model = LGBModel(model_fpath=model_path)\n",
    "model = LGBModel(model_fpath=f\"{models_path}/{model_name}-clf.model\")"
   ]
  },
  {
   "cell_type": "markdown",
   "id": "a2ad0af9",
   "metadata": {},
   "source": [
    "# Predict do Treino e Teste"
   ]
  },
  {
   "cell_type": "code",
   "execution_count": 5,
   "id": "106abb6c",
   "metadata": {
    "scrolled": true
   },
   "outputs": [],
   "source": [
    "# Train\n",
    "Y_pred_train = model.predict(X_train[features], features)\n",
    "perf_train = model_performance(Y_train, Y_pred_train, n=1000)\n",
    "ppv_train_cutflow = compute_purity_cutflow(perf_train.threshold, perf_train.fpr, perf_train.tpr, perf_train.ppv, perf_train.acc)\n",
    "best_train_thr = compute_best_thr(perf_train.threshold, perf_train.tpr, perf_train.ppv)\n",
    "ppv_train_cutflow.to_csv(f'{models_path}/{model_name}-ppv-train-cutflow.csv', index=False)\n",
    "\n",
    "\n",
    "# Test\n",
    "Y_pred_test = model.predict(X_test[features], features)\n",
    "perf_test = model_performance(Y_test, Y_pred_test, n=1000)\n",
    "ppv_test_cutflow = compute_purity_cutflow(perf_test.threshold, perf_test.fpr, perf_test.tpr, perf_test.ppv, perf_test.acc)\n",
    "best_test_thr = compute_best_thr(perf_test.threshold, perf_test.tpr, perf_test.ppv)\n",
    "ppv_test_cutflow.to_csv(f'{models_path}/{model_name}-ppv-test-cutflow.csv', index=False)"
   ]
  },
  {
   "cell_type": "code",
   "execution_count": 6,
   "id": "8c299bd0",
   "metadata": {},
   "outputs": [
    {
     "name": "stdout",
     "output_type": "stream",
     "text": [
      "Best thr train: 0.994994994994995\n"
     ]
    },
    {
     "data": {
      "text/html": [
       "<div>\n",
       "<style scoped>\n",
       "    .dataframe tbody tr th:only-of-type {\n",
       "        vertical-align: middle;\n",
       "    }\n",
       "\n",
       "    .dataframe tbody tr th {\n",
       "        vertical-align: top;\n",
       "    }\n",
       "\n",
       "    .dataframe thead th {\n",
       "        text-align: right;\n",
       "    }\n",
       "</style>\n",
       "<table border=\"1\" class=\"dataframe\">\n",
       "  <thead>\n",
       "    <tr style=\"text-align: right;\">\n",
       "      <th></th>\n",
       "      <th>purity_cut</th>\n",
       "      <th>purity</th>\n",
       "      <th>threshold</th>\n",
       "      <th>efficiency</th>\n",
       "      <th>bkg_rejection</th>\n",
       "      <th>accuracy</th>\n",
       "    </tr>\n",
       "  </thead>\n",
       "  <tbody>\n",
       "    <tr>\n",
       "      <th>0</th>\n",
       "      <td>0.10000</td>\n",
       "      <td>0.100022</td>\n",
       "      <td>0.050050</td>\n",
       "      <td>0.999050</td>\n",
       "      <td>0.388795</td>\n",
       "      <td>0.427647</td>\n",
       "    </tr>\n",
       "    <tr>\n",
       "      <th>1</th>\n",
       "      <td>0.20000</td>\n",
       "      <td>0.200194</td>\n",
       "      <td>0.266266</td>\n",
       "      <td>0.987275</td>\n",
       "      <td>0.731816</td>\n",
       "      <td>0.748079</td>\n",
       "    </tr>\n",
       "    <tr>\n",
       "      <th>2</th>\n",
       "      <td>0.30000</td>\n",
       "      <td>0.300202</td>\n",
       "      <td>0.575576</td>\n",
       "      <td>0.961882</td>\n",
       "      <td>0.847545</td>\n",
       "      <td>0.854824</td>\n",
       "    </tr>\n",
       "    <tr>\n",
       "      <th>3</th>\n",
       "      <td>0.40000</td>\n",
       "      <td>0.400096</td>\n",
       "      <td>0.823824</td>\n",
       "      <td>0.929266</td>\n",
       "      <td>0.905263</td>\n",
       "      <td>0.906791</td>\n",
       "    </tr>\n",
       "    <tr>\n",
       "      <th>4</th>\n",
       "      <td>0.50000</td>\n",
       "      <td>0.501024</td>\n",
       "      <td>0.947948</td>\n",
       "      <td>0.883551</td>\n",
       "      <td>0.940171</td>\n",
       "      <td>0.936566</td>\n",
       "    </tr>\n",
       "    <tr>\n",
       "      <th>5</th>\n",
       "      <td>0.60000</td>\n",
       "      <td>0.602838</td>\n",
       "      <td>0.988989</td>\n",
       "      <td>0.809106</td>\n",
       "      <td>0.963756</td>\n",
       "      <td>0.953911</td>\n",
       "    </tr>\n",
       "    <tr>\n",
       "      <th>6</th>\n",
       "      <td>0.70000</td>\n",
       "      <td>0.732599</td>\n",
       "      <td>0.997998</td>\n",
       "      <td>0.632807</td>\n",
       "      <td>0.984295</td>\n",
       "      <td>0.961918</td>\n",
       "    </tr>\n",
       "    <tr>\n",
       "      <th>7</th>\n",
       "      <td>0.80000</td>\n",
       "      <td>0.069937</td>\n",
       "      <td>0.000000</td>\n",
       "      <td>0.999957</td>\n",
       "      <td>0.095838</td>\n",
       "      <td>0.153398</td>\n",
       "    </tr>\n",
       "    <tr>\n",
       "      <th>8</th>\n",
       "      <td>0.90000</td>\n",
       "      <td>0.069937</td>\n",
       "      <td>0.000000</td>\n",
       "      <td>0.999957</td>\n",
       "      <td>0.095838</td>\n",
       "      <td>0.153398</td>\n",
       "    </tr>\n",
       "    <tr>\n",
       "      <th>9</th>\n",
       "      <td>0.65711</td>\n",
       "      <td>0.657110</td>\n",
       "      <td>0.994995</td>\n",
       "      <td>0.752306</td>\n",
       "      <td>0.973309</td>\n",
       "      <td>0.959239</td>\n",
       "    </tr>\n",
       "  </tbody>\n",
       "</table>\n",
       "</div>"
      ],
      "text/plain": [
       "   purity_cut    purity  threshold  efficiency  bkg_rejection  accuracy\n",
       "0     0.10000  0.100022   0.050050    0.999050       0.388795  0.427647\n",
       "1     0.20000  0.200194   0.266266    0.987275       0.731816  0.748079\n",
       "2     0.30000  0.300202   0.575576    0.961882       0.847545  0.854824\n",
       "3     0.40000  0.400096   0.823824    0.929266       0.905263  0.906791\n",
       "4     0.50000  0.501024   0.947948    0.883551       0.940171  0.936566\n",
       "5     0.60000  0.602838   0.988989    0.809106       0.963756  0.953911\n",
       "6     0.70000  0.732599   0.997998    0.632807       0.984295  0.961918\n",
       "7     0.80000  0.069937   0.000000    0.999957       0.095838  0.153398\n",
       "8     0.90000  0.069937   0.000000    0.999957       0.095838  0.153398\n",
       "9     0.65711  0.657110   0.994995    0.752306       0.973309  0.959239"
      ]
     },
     "metadata": {},
     "output_type": "display_data"
    }
   ],
   "source": [
    "print('Best thr train:', best_train_thr)\n",
    "display(ppv_train_cutflow)"
   ]
  },
  {
   "cell_type": "code",
   "execution_count": 7,
   "id": "acd74a79",
   "metadata": {},
   "outputs": [
    {
     "name": "stdout",
     "output_type": "stream",
     "text": [
      "Best thr test 0.993993993993994\n"
     ]
    },
    {
     "data": {
      "text/html": [
       "<div>\n",
       "<style scoped>\n",
       "    .dataframe tbody tr th:only-of-type {\n",
       "        vertical-align: middle;\n",
       "    }\n",
       "\n",
       "    .dataframe tbody tr th {\n",
       "        vertical-align: top;\n",
       "    }\n",
       "\n",
       "    .dataframe thead th {\n",
       "        text-align: right;\n",
       "    }\n",
       "</style>\n",
       "<table border=\"1\" class=\"dataframe\">\n",
       "  <thead>\n",
       "    <tr style=\"text-align: right;\">\n",
       "      <th></th>\n",
       "      <th>purity_cut</th>\n",
       "      <th>purity</th>\n",
       "      <th>threshold</th>\n",
       "      <th>efficiency</th>\n",
       "      <th>bkg_rejection</th>\n",
       "      <th>accuracy</th>\n",
       "    </tr>\n",
       "  </thead>\n",
       "  <tbody>\n",
       "    <tr>\n",
       "      <th>0</th>\n",
       "      <td>0.100000</td>\n",
       "      <td>0.100349</td>\n",
       "      <td>0.052052</td>\n",
       "      <td>0.993118</td>\n",
       "      <td>0.394612</td>\n",
       "      <td>0.432716</td>\n",
       "    </tr>\n",
       "    <tr>\n",
       "      <th>1</th>\n",
       "      <td>0.200000</td>\n",
       "      <td>0.200173</td>\n",
       "      <td>0.275275</td>\n",
       "      <td>0.974001</td>\n",
       "      <td>0.735381</td>\n",
       "      <td>0.750572</td>\n",
       "    </tr>\n",
       "    <tr>\n",
       "      <th>2</th>\n",
       "      <td>0.300000</td>\n",
       "      <td>0.300142</td>\n",
       "      <td>0.587588</td>\n",
       "      <td>0.951392</td>\n",
       "      <td>0.849161</td>\n",
       "      <td>0.855669</td>\n",
       "    </tr>\n",
       "    <tr>\n",
       "      <th>3</th>\n",
       "      <td>0.400000</td>\n",
       "      <td>0.400262</td>\n",
       "      <td>0.830831</td>\n",
       "      <td>0.923379</td>\n",
       "      <td>0.905926</td>\n",
       "      <td>0.907037</td>\n",
       "    </tr>\n",
       "    <tr>\n",
       "      <th>4</th>\n",
       "      <td>0.500000</td>\n",
       "      <td>0.500792</td>\n",
       "      <td>0.949950</td>\n",
       "      <td>0.880898</td>\n",
       "      <td>0.940293</td>\n",
       "      <td>0.936512</td>\n",
       "    </tr>\n",
       "    <tr>\n",
       "      <th>5</th>\n",
       "      <td>0.600000</td>\n",
       "      <td>0.602066</td>\n",
       "      <td>0.988989</td>\n",
       "      <td>0.809933</td>\n",
       "      <td>0.963601</td>\n",
       "      <td>0.953818</td>\n",
       "    </tr>\n",
       "    <tr>\n",
       "      <th>6</th>\n",
       "      <td>0.700000</td>\n",
       "      <td>0.728963</td>\n",
       "      <td>0.997998</td>\n",
       "      <td>0.629735</td>\n",
       "      <td>0.984080</td>\n",
       "      <td>0.961520</td>\n",
       "    </tr>\n",
       "    <tr>\n",
       "      <th>7</th>\n",
       "      <td>0.800000</td>\n",
       "      <td>0.069874</td>\n",
       "      <td>0.000000</td>\n",
       "      <td>0.999228</td>\n",
       "      <td>0.095590</td>\n",
       "      <td>0.153120</td>\n",
       "    </tr>\n",
       "    <tr>\n",
       "      <th>8</th>\n",
       "      <td>0.900000</td>\n",
       "      <td>0.069874</td>\n",
       "      <td>0.000000</td>\n",
       "      <td>0.999228</td>\n",
       "      <td>0.095590</td>\n",
       "      <td>0.153120</td>\n",
       "    </tr>\n",
       "    <tr>\n",
       "      <th>9</th>\n",
       "      <td>0.642591</td>\n",
       "      <td>0.642591</td>\n",
       "      <td>0.993994</td>\n",
       "      <td>0.766797</td>\n",
       "      <td>0.971001</td>\n",
       "      <td>0.958000</td>\n",
       "    </tr>\n",
       "  </tbody>\n",
       "</table>\n",
       "</div>"
      ],
      "text/plain": [
       "   purity_cut    purity  threshold  efficiency  bkg_rejection  accuracy\n",
       "0    0.100000  0.100349   0.052052    0.993118       0.394612  0.432716\n",
       "1    0.200000  0.200173   0.275275    0.974001       0.735381  0.750572\n",
       "2    0.300000  0.300142   0.587588    0.951392       0.849161  0.855669\n",
       "3    0.400000  0.400262   0.830831    0.923379       0.905926  0.907037\n",
       "4    0.500000  0.500792   0.949950    0.880898       0.940293  0.936512\n",
       "5    0.600000  0.602066   0.988989    0.809933       0.963601  0.953818\n",
       "6    0.700000  0.728963   0.997998    0.629735       0.984080  0.961520\n",
       "7    0.800000  0.069874   0.000000    0.999228       0.095590  0.153120\n",
       "8    0.900000  0.069874   0.000000    0.999228       0.095590  0.153120\n",
       "9    0.642591  0.642591   0.993994    0.766797       0.971001  0.958000"
      ]
     },
     "metadata": {},
     "output_type": "display_data"
    }
   ],
   "source": [
    "print('Best thr test', best_test_thr)\n",
    "display(ppv_test_cutflow)"
   ]
  },
  {
   "cell_type": "markdown",
   "id": "eaecb6b0",
   "metadata": {},
   "source": [
    "# Notificar quando terminar o teste"
   ]
  },
  {
   "cell_type": "code",
   "execution_count": 8,
   "id": "387813af",
   "metadata": {},
   "outputs": [
    {
     "data": {
      "application/javascript": [
       "\n",
       "  var msg = new SpeechSynthesisUtterance();\n",
       "  msg.text = \"Process completed!\";\n",
       "  window.speechSynthesis.speak(msg);\n",
       "  alert(\"Process completed!\")\n"
      ],
      "text/plain": [
       "<IPython.core.display.Javascript object>"
      ]
     },
     "metadata": {},
     "output_type": "display_data"
    }
   ],
   "source": [
    "from IPython.display import clear_output, display, HTML, Javascript\n",
    "\n",
    "display(Javascript(\"\"\"\n",
    "  var msg = new SpeechSynthesisUtterance();\n",
    "  msg.text = \"Process completed!\";\n",
    "  window.speechSynthesis.speak(msg);\n",
    "  alert(\"Process completed!\")\n",
    "\"\"\"))"
   ]
  },
  {
   "cell_type": "markdown",
   "id": "d8de88b3",
   "metadata": {},
   "source": [
    "# Preparando dados para o Plot do Discriminate"
   ]
  },
  {
   "cell_type": "code",
   "execution_count": 10,
   "id": "68ba3c56",
   "metadata": {},
   "outputs": [],
   "source": [
    "scale_factor = 10**6\n",
    "\n",
    "X_train['LGB_score'] = Y_pred_train\n",
    "X_test['LGB_score'] = Y_pred_test\n",
    "\n",
    "X_train['modelWeight'] = W_train/scale_factor\n",
    "X_test['modelWeight'] = W_test/scale_factor\n",
    "\n",
    "X_train['Label'] = Y_train\n",
    "X_test['Label'] = Y_test\n",
    "\n",
    "X_train[\"evtWeight\"] = evtWeight_train\n",
    "X_test['evtWeight'] = evtWeight_teste"
   ]
  },
  {
   "cell_type": "markdown",
   "id": "0e09748e",
   "metadata": {},
   "source": [
    "# Plot do Discriminate usando modelWeigth"
   ]
  },
  {
   "cell_type": "code",
   "execution_count": 11,
   "id": "624e2f02",
   "metadata": {},
   "outputs": [
    {
     "data": {
      "image/png": "[encoded data removed]",
      "text/plain": [
       "<Figure size 504x504 with 1 Axes>"
      ]
     },
     "metadata": {
      "needs_background": "light"
     },
     "output_type": "display_data"
    }
   ],
   "source": [
    "# Plot config\n",
    "fig = plt.figure(figsize=(7,7))\n",
    "grid = [1,1] # number of rows, number of cols\n",
    "gspec = gs.GridSpec(grid[0], grid[1], width_ratios=[1], height_ratios=[1])\n",
    "\n",
    "# Plot code\n",
    "ax1 = plt.subplot(position(gspec, grid, main=1, sub=1)) # main is column number, sub is row number\n",
    "\n",
    "ana.step_plot(ax1, \"LGB_score\", X_train[X_train.Label == 1], label=f\"{plot_label} (Train)\", color=\"blue\", weight=\"modelWeight\", bins=np.linspace(0, 1, 51))\n",
    "ana.step_plot(ax1, \"LGB_score\", X_test[X_test.Label == 1], label=f\"{plot_label} (Test)\", color=\"blue\", weight=\"modelWeight\", bins=np.linspace(0, 1, 51), linestyle=\"dotted\")\n",
    "ana.step_plot(ax1, \"LGB_score\", X_train[X_train.Label == 0], label=\"Background (Train)\", color=\"red\", weight=\"modelWeight\", bins=np.linspace(0, 1, 51))\n",
    "ana.step_plot(ax1, \"LGB_score\", X_test[X_test.Label == 0], label=\"Background (Test)\", color=\"red\", weight=\"modelWeight\", bins=np.linspace(0, 1, 51), linestyle=\"dotted\")\n",
    "\n",
    "ana.labels(ax1, ylabel=\"Model Weight\", xlabel=\"LGB_score\")\n",
    "ana.style(\n",
    "    ax1, lumi=metadata[\"luminosity\"].get(dataset_year), year=year_style,\n",
    "    ylog=False, legend_ncol=2, #ylim=[0, 1]\n",
    ")\n",
    "plt.savefig(f\"{figures_path}/LGB_score-modelWeight-{model_name}.png\", dpi=200, facecolor='white')\n",
    "plt.show()"
   ]
  },
  {
   "cell_type": "code",
   "execution_count": 12,
   "id": "6b363c2d",
   "metadata": {},
   "outputs": [
    {
     "data": {
      "image/png": "[encoded data removed]",
      "text/plain": [
       "<Figure size 504x504 with 1 Axes>"
      ]
     },
     "metadata": {
      "needs_background": "light"
     },
     "output_type": "display_data"
    }
   ],
   "source": [
    "# Plot config\n",
    "fig = plt.figure(figsize=(7,7))\n",
    "grid = [1,1] # number of rows, number of cols\n",
    "gspec = gs.GridSpec(grid[0], grid[1], width_ratios=[1], height_ratios=[1])\n",
    "\n",
    "# Plot code\n",
    "ax1 = plt.subplot(position(gspec, grid, main=1, sub=1)) # main is column number, sub is row number\n",
    "\n",
    "ana.step_plot(ax1, \"LGB_score\", X_train[X_train.Label == 1], label=f\"{plot_label} (Train)\", color=\"blue\", weight=\"evtWeight\", bins=np.linspace(0, 1, 51))\n",
    "ana.step_plot(ax1, \"LGB_score\", X_test[X_test.Label == 1], label=f\"{plot_label} (Test)\", color=\"blue\", weight=\"evtWeight\", bins=np.linspace(0, 1, 51), linestyle=\"dotted\")\n",
    "ana.step_plot(ax1, \"LGB_score\", X_train[X_train.Label == 0], label=\"Background (Train)\", color=\"red\", weight=\"evtWeight\", bins=np.linspace(0, 1, 51))\n",
    "ana.step_plot(ax1, \"LGB_score\", X_test[X_test.Label == 0], label=\"Background (Test)\", color=\"red\", weight=\"evtWeight\", bins=np.linspace(0, 1, 51), linestyle=\"dotted\")\n",
    "\n",
    "ana.labels(ax1, ylabel=\"Events\", xlabel=\"LGB_score\")\n",
    "ana.style(\n",
    "    ax1, lumi=metadata[\"luminosity\"].get(dataset_year), year=year_style,\n",
    "    ylog=True, legend_ncol=2, ylim=[1e-2, 1e6]\n",
    ")\n",
    "plt.savefig(f\"{figures_path}/LGB_score-evtWeight-{model_name}.png\", dpi=200, facecolor='white')\n",
    "plt.show()"
   ]
  },
  {
   "cell_type": "code",
   "execution_count": null,
   "id": "e29abf84",
   "metadata": {},
   "outputs": [],
   "source": []
  },
  {
   "cell_type": "code",
   "execution_count": null,
   "id": "942de92b",
   "metadata": {},
   "outputs": [],
   "source": []
  },
  {
   "cell_type": "code",
   "execution_count": null,
   "id": "4b98e537",
   "metadata": {},
   "outputs": [],
   "source": []
  }
 ],
 "metadata": {
  "@webio": {
   "lastCommId": null,
   "lastKernelId": null
  },
  "kernelspec": {
   "display_name": "Python 3",
   "language": "python",
   "name": "python3"
  },
  "language_info": {
   "codemirror_mode": {
    "name": "ipython",
    "version": 3
   },
   "file_extension": ".py",
   "mimetype": "text/x-python",
   "name": "python",
   "nbconvert_exporter": "python",
   "pygments_lexer": "ipython3",
   "version": "3.9.12"
  }
 },
 "nbformat": 4,
 "nbformat_minor": 5
}
