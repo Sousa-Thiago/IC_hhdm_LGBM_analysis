{
 "cells": [
  {
   "cell_type": "markdown",
   "id": "91544189",
   "metadata": {},
   "source": [
    "# Bibliotecas"
   ]
  },
  {
   "cell_type": "code",
   "execution_count": 1,
   "id": "5c67c195",
   "metadata": {},
   "outputs": [],
   "source": [
    "import sys\n",
    "sys.path.append('/eos/user/t/thenriqu/Dark_Matter/LGBM_hhdm_analysis/')\n",
    "\n",
    "import pprint\n",
    "import json\n",
    "from pathlib import Path\n",
    "import pickle\n",
    "\n",
    "import numpy as np\n",
    "import pandas as pd\n",
    "import matplotlib.pyplot as plt\n",
    "import matplotlib.gridspec as gs\n",
    "\n",
    "import hepherolib.analysis as ana\n",
    "\n",
    "from hhdm_analysis.utils import signal_label, stack_sorting, position, process_signals\n",
    "\n",
    "ana.start()\n",
    "plt.style.use(\"default\")"
   ]
  },
  {
   "cell_type": "markdown",
   "id": "e7d88f18",
   "metadata": {},
   "source": [
    "# Configuração"
   ]
  },
  {
   "cell_type": "code",
   "execution_count": 2,
   "id": "ca6f42b0",
   "metadata": {},
   "outputs": [],
   "source": [
    "period = '17'\n",
    "year_style = 2017\n",
    "dataset_year = \"2017\"\n",
    "basedir = \"/eos/user/t/thenriqu/Dark_Matter/Amostras/hhdmAnalysis_deepJet_Regions/datasets\"\n",
    "\n",
    "# Setup figure folders\n",
    "dataset_name = basedir.split('/')[-2]\n",
    "figures_path = f\"./figures/{dataset_name}/{dataset_year}/machine_learning\"\n",
    "Path(figures_path).mkdir(parents=True, exist_ok=True)\n",
    "\n",
    "# Data folder\n",
    "data_path = f\"./data/{dataset_name}/{dataset_year}\"\n",
    "Path(data_path).mkdir(parents=True, exist_ok=True)"
   ]
  },
  {
   "cell_type": "markdown",
   "id": "40f97e55",
   "metadata": {},
   "source": [
    "# Lendo Metadata"
   ]
  },
  {
   "cell_type": "code",
   "execution_count": 3,
   "id": "dc34cf4d",
   "metadata": {},
   "outputs": [],
   "source": [
    "with open(\"/eos/user/t/thenriqu/Dark_Matter/metadata.json\", \"r\") as f:\n",
    "    metadata = json.load(f)"
   ]
  },
  {
   "cell_type": "markdown",
   "id": "67fb10b3",
   "metadata": {},
   "source": [
    "# Carregando Datasets"
   ]
  },
  {
   "cell_type": "code",
   "execution_count": 4,
   "id": "dc8aa6a7",
   "metadata": {},
   "outputs": [],
   "source": [
    "base_model_name = \"multi_signal\"\n",
    "\n",
    "with open(f\"{data_path}/{base_model_name}-predicted-data.pickle\", \"rb\") as f:\n",
    "    ds = pickle.load(f)"
   ]
  },
  {
   "cell_type": "markdown",
   "id": "29c10aae",
   "metadata": {},
   "source": [
    "# Preparando Datasets para o Plot"
   ]
  },
  {
   "cell_type": "code",
   "execution_count": 5,
   "id": "e4c40115",
   "metadata": {},
   "outputs": [
    {
     "name": "stdout",
     "output_type": "stream",
     "text": [
      "      Datasets  Number of events\n",
      "0  Residual SM       2116.969651\n",
      "1         $ZZ$        307.812267\n",
      "2         $WZ$        618.610556\n",
      "3   Single top       4118.061163\n",
      "4   $t\\bar{t}$      19982.592759\n",
      "5    Drell-Yan     101368.346901\n",
      "Purity: 0.7887826559035951\n"
     ]
    }
   ],
   "source": [
    "region_id = 0 # Signal region\n",
    "\n",
    "# Prepare data to plot\n",
    "colors_list = [\"gainsboro\", \"orchid\", \"limegreen\", \"red\", \"skyblue\", \"darkgoldenrod\"]\n",
    "labels_list = [r\"Residual SM\", r\"$WZ$\", r\"$ZZ$\", \"Single top\", r\"$t\\bar{t}$\", \"Drell-Yan\"]\n",
    "bkg_list = [\"Residual\", \"WZ\", \"ZZ\", \"ST\", \"TT\", \"DYJetsToLL\"]\n",
    "ds = {k: v[v.RegionID == region_id] for k,v in ds.items()}\n",
    "dataframes, labels, colors = stack_sorting(ds, colors_list, labels_list, bkg_list)"
   ]
  },
  {
   "cell_type": "markdown",
   "id": "6a53fd3b",
   "metadata": {},
   "source": [
    "# Definindo variáveis para o Plot"
   ]
  },
  {
   "cell_type": "code",
   "execution_count": 6,
   "id": "308536f1",
   "metadata": {},
   "outputs": [],
   "source": [
    "# Signals to use in plot\n",
    "signal_to_use = process_signals([\n",
    "    (\"Signal_400_100\", \"darkviolet\"),\n",
    "    (\"Signal_1000_100\", \"blue\")\n",
    "])\n",
    "\n",
    "all_signals = process_signals([\n",
    "    (\"Signal_1000_100\", \"blue\"),\n",
    "    (\"Signal_1000_200\", \"lightcoral\"),\n",
    "    (\"Signal_1000_300\", \"chocolate\"),\n",
    "    (\"Signal_1000_400\", \"darkorange\"),\n",
    "    (\"Signal_1000_600\", \"moccasin\"),\n",
    "    (\"Signal_1000_800\", \"goldenrod\"),\n",
    "    (\"Signal_400_100\", \"darkviolet\"),\n",
    "    (\"Signal_400_200\", \"yellowgreen\"),\n",
    "    (\"Signal_500_100\", \"green\"),\n",
    "    (\"Signal_500_200\", \"turquoise\"),\n",
    "    (\"Signal_500_300\", \"darkcyan\"),\n",
    "    (\"Signal_600_100\", \"cyan\"),\n",
    "    (\"Signal_600_200\", \"indigo\"),\n",
    "    (\"Signal_600_300\", \"violet\"),\n",
    "    (\"Signal_600_400\", \"deeppink\"),\n",
    "    (\"Signal_800_100\", \"crimson\"),\n",
    "    (\"Signal_800_200\", \"red\"),\n",
    "    (\"Signal_800_300\", \"saddlebrown\"),\n",
    "    (\"Signal_800_400\", \"gainsboro\"),\n",
    "    (\"Signal_800_600\", \"dimgray\"),\n",
    "])\n",
    "\n",
    "# Variables to plot\n",
    "var1 = \"MLP_score_torch\"\n",
    "var2 = \"LGB_score\"\n",
    "var3 = \"MLP_score_keras\"\n",
    "xmin = 0\n",
    "xmax = 1\n",
    "nbins = 51\n",
    "bins = np.linspace(xmin, xmax, nbins)"
   ]
  },
  {
   "cell_type": "markdown",
   "id": "164309e7",
   "metadata": {},
   "source": [
    "# MLP vs LGBM"
   ]
  },
  {
   "cell_type": "code",
   "execution_count": 7,
   "id": "4e042562",
   "metadata": {},
   "outputs": [
    {
     "data": {
      "image/png": "[encoded data removed]",
      "text/plain": [
       "<Figure size 504x504 with 1 Axes>"
      ]
     },
     "metadata": {
      "needs_background": "light"
     },
     "output_type": "display_data"
    }
   ],
   "source": [
    "xlabel = \"Score\"\n",
    "\n",
    "# Plot config\n",
    "fig = plt.figure(figsize=(7,7))\n",
    "grid = [1,1] # number of rows, number of cols\n",
    "gspec = gs.GridSpec(grid[0], grid[1], width_ratios=[1], height_ratios=[1])\n",
    "\n",
    "# Plot code\n",
    "ax1 = plt.subplot(position(gspec, grid, main=1, sub=1)) # main is column number, sub is row number\n",
    "\n",
    "for signal in signal_to_use:\n",
    "    ana.step_plot(\n",
    "        ax1, var3, ds[signal[\"key\"]],\n",
    "        label=signal[\"label\"] + \" (MLP)\", color=signal[\"color\"],\n",
    "        weight=\"evtWeight\", bins=bins\n",
    "    )\n",
    "    ana.step_plot(\n",
    "        ax1, var2, ds[signal[\"key\"]],\n",
    "        label=signal[\"label\"] + \" (LGB)\", color=signal[\"color\"],\n",
    "        weight=\"evtWeight\", bins=bins, linestyle=\"--\"\n",
    "    )\n",
    "\n",
    "ana.labels(ax1, ylabel=\"Events\", xlabel=xlabel)\n",
    "ana.style(\n",
    "    ax1, lumi=metadata[\"luminosity\"].get(dataset_year), year=year_style,\n",
    "    ylog=True, legend_ncol=2, ylim=[1.e-2,1.e3]\n",
    ")\n",
    "# plt.savefig(f\"{figures_path}/{base_model_name}-discriminators-lgb-mlp-keras.png\", dpi=200, facecolor='white')\n",
    "# plt.show()\n",
    "# plt.close()"
   ]
  },
  {
   "cell_type": "markdown",
   "id": "6b1cb767",
   "metadata": {},
   "source": [
    "# Background vs Signal"
   ]
  },
  {
   "cell_type": "markdown",
   "id": "24056810",
   "metadata": {},
   "source": [
    "# MLP vs LGBM + Background"
   ]
  },
  {
   "cell_type": "code",
   "execution_count": 9,
   "id": "6865c08f",
   "metadata": {},
   "outputs": [
    {
     "data": {
      "image/png": "[encoded data removed]",
      "text/plain": [
       "<Figure size 504x504 with 1 Axes>"
      ]
     },
     "metadata": {
      "needs_background": "light"
     },
     "output_type": "display_data"
    }
   ],
   "source": [
    "xlabel = \"Score\"\n",
    "\n",
    "# Plot config\n",
    "fig = plt.figure(figsize=(7,7))\n",
    "grid = [1,1] # number of rows, number of cols\n",
    "gspec = gs.GridSpec(grid[0], grid[1], width_ratios=[1], height_ratios=[1])\n",
    "\n",
    "# Plot code\n",
    "ax1 = plt.subplot(position(gspec, grid, main=1, sub=1)) # main is column number, sub is row number\n",
    "\n",
    "for signal in signal_to_use:\n",
    "    ana.step_plot(\n",
    "        ax1, var3, ds[signal[\"key\"]],\n",
    "        label=signal[\"label\"] + \" (MLP)\", color=signal[\"color\"],\n",
    "        weight=\"evtWeight\", bins=bins\n",
    "    )\n",
    "    ana.step_plot(\n",
    "        ax1, var2, ds[signal[\"key\"]],\n",
    "        label=signal[\"label\"] + \" (LGB)\", color=signal[\"color\"],\n",
    "        weight=\"evtWeight\", bins=bins, linestyle=\"--\"\n",
    "    )\n",
    "\n",
    "\n",
    "\n",
    "ybkg, errbkg = ana.stacked_plot(ax1, var2, dataframes, labels, colors, weight=\"evtWeight\", bins=bins)\n",
    "\n",
    "ana.labels(ax1, ylabel=\"Events\", xlabel=xlabel)\n",
    "ana.style(\n",
    "    ax1, lumi=metadata[\"luminosity\"].get(dataset_year), year=year_style,\n",
    "    ylog=True, legend_ncol=2, ylim=[1.e-2,1.e6]\n",
    ")\n",
    "# plt.savefig(f\"{figures_path}/{base_model_name}-discriminators-lgb-mlp-keras-background.png\", dpi=200, facecolor='white')\n",
    "# plt.show()\n",
    "# plt.close()"
   ]
  },
  {
   "cell_type": "code",
   "execution_count": null,
   "id": "ea971469",
   "metadata": {},
   "outputs": [],
   "source": []
  }
 ],
 "metadata": {
  "@webio": {
   "lastCommId": null,
   "lastKernelId": null
  },
  "kernelspec": {
   "display_name": "Python 3",
   "language": "python",
   "name": "python3"
  },
  "language_info": {
   "codemirror_mode": {
    "name": "ipython",
    "version": 3
   },
   "file_extension": ".py",
   "mimetype": "text/x-python",
   "name": "python",
   "nbconvert_exporter": "python",
   "pygments_lexer": "ipython3",
   "version": "3.9.12"
  }
 },
 "nbformat": 4,
 "nbformat_minor": 5
}
