{
 "cells": [
  {
   "cell_type": "markdown",
   "id": "967115ad",
   "metadata": {},
   "source": [
    "# Bibliotecas"
   ]
  },
  {
   "cell_type": "code",
   "execution_count": 1,
   "id": "b49e33f8",
   "metadata": {},
   "outputs": [],
   "source": [
    "import sys\n",
    "\n",
    "sys.path.append('/eos/user/t/thenriqu/Dark_Matter/LGBM_hhdm_analysis/')\n",
    "\n",
    "import json\n",
    "from pathlib import Path\n",
    "\n",
    "import numpy as np\n",
    "import pandas as pd\n",
    "import matplotlib.pyplot as plt\n",
    "import matplotlib.gridspec as gs\n",
    "import hepherolib.analysis as ana\n",
    "\n",
    "from lgbm.controllers_lgb_v2 import LGBLearner, LGBModel\n",
    "from lgbm.utils import model_performance, compute_purity_cutflow, compute_best_thr\n",
    "from hhdm_analysis.utils import position, signal_label\n",
    "\n",
    "ana.start()\n",
    "plt.style.use(\"default\")"
   ]
  },
  {
   "cell_type": "markdown",
   "id": "0c1744f6",
   "metadata": {},
   "source": [
    "# Configuração"
   ]
  },
  {
   "cell_type": "code",
   "execution_count": 2,
   "id": "fba6bb92",
   "metadata": {},
   "outputs": [],
   "source": [
    "period = '17'\n",
    "year_style = 2017\n",
    "dataset_year = \"2017\"\n",
    "basedir = '/eos/user/t/thenriqu/Dark_Matter/Amostras/hhdmAnalysis_deepJet_Regions/datasets'\n",
    "\n",
    "# Setup figure folders\n",
    "dataset_name = basedir.split('/')[-2]\n",
    "figures_path = f\"./figures/{dataset_name}/{dataset_year}/machine_learning\"\n",
    "Path(figures_path).mkdir(parents=True, exist_ok=True)\n",
    "\n",
    "# Data folder\n",
    "data_path = f\"./data/{dataset_name}/{dataset_year}\"\n",
    "Path(data_path).mkdir(parents=True, exist_ok=True)\n",
    "\n",
    "# Setup models folders\n",
    "models_path = f\"./models/{dataset_name}/{dataset_year}\"\n",
    "Path(models_path).mkdir(parents=True, exist_ok=True)"
   ]
  },
  {
   "cell_type": "markdown",
   "id": "60e55b1e",
   "metadata": {},
   "source": [
    "# Lendo Metadata"
   ]
  },
  {
   "cell_type": "code",
   "execution_count": 3,
   "id": "d774ffb0",
   "metadata": {},
   "outputs": [],
   "source": [
    "with open('/eos/user/t/thenriqu/Dark_Matter/metadata.json', 'r') as f:\n",
    "    metadata = json.load(f)"
   ]
  },
  {
   "cell_type": "markdown",
   "id": "864263de",
   "metadata": {},
   "source": [
    "# Lendo Dados e Modelo"
   ]
  },
  {
   "cell_type": "code",
   "execution_count": 4,
   "id": "9aebc494",
   "metadata": {},
   "outputs": [],
   "source": [
    "model_name = 'LGB_multi_signal'\n",
    "plot_label = 'Multi-signal'\n",
    "\n",
    "# Train and Test data\n",
    "X_train = pd.read_csv(f'{data_path}/{model_name}-train-data.csv')\n",
    "X_test = pd.read_csv(f'{data_path}/{model_name}-test-data.csv')\n",
    "\n",
    "W_train = X_train.pop('modelWeight').values\n",
    "W_test = X_test.pop('modelWeight').values\n",
    "\n",
    "Y_train = X_train.pop('Label').values\n",
    "Y_test = X_test.pop('Label').values\n",
    "\n",
    "evtWeight_train = X_train.pop('evtWeight').values\n",
    "evtWeight_teste = X_test.pop('evtWeight').values\n",
    "\n",
    "# Model\n",
    "features = [\"LeadingLep_pt\", \"LepLep_deltaM\", \"LepLep_deltaR\", \"LepLep_pt\", \"MET_LepLep_Mt\", \"MET_LepLep_deltaPhi\", \"MET_pt\", \"MT2LL\", \"Nbjets\", \"TrailingLep_pt\"]\n",
    "model = LGBModel(model_fpath=f\"{models_path}/{model_name}-clf.model\")"
   ]
  },
  {
   "cell_type": "markdown",
   "id": "a2ad0af9",
   "metadata": {},
   "source": [
    "# Predict do Treino e Teste"
   ]
  },
  {
   "cell_type": "code",
   "execution_count": 5,
   "id": "106abb6c",
   "metadata": {
    "scrolled": true
   },
   "outputs": [],
   "source": [
    "# Train\n",
    "Y_pred_train = model.predict(X_train[features], features)\n",
    "perf_train = model_performance(Y_train, Y_pred_train, n=1000)\n",
    "ppv_train_cutflow = compute_purity_cutflow(perf_train.threshold, perf_train.fpr, perf_train.tpr, perf_train.ppv, perf_train.acc)\n",
    "best_train_thr = compute_best_thr(perf_train.threshold, perf_train.tpr, perf_train.ppv)\n",
    "ppv_train_cutflow.to_csv(f'{models_path}/{model_name}-ppv-train-cutflow.csv', index=False)\n",
    "\n",
    "\n",
    "# Test\n",
    "Y_pred_test = model.predict(X_test[features], features)\n",
    "perf_test = model_performance(Y_test, Y_pred_test, n=1000)\n",
    "ppv_test_cutflow = compute_purity_cutflow(perf_test.threshold, perf_test.fpr, perf_test.tpr, perf_test.ppv, perf_test.acc)\n",
    "best_test_thr = compute_best_thr(perf_test.threshold, perf_test.tpr, perf_test.ppv)\n",
    "ppv_test_cutflow.to_csv(f'{models_path}/{model_name}-ppv-test-cutflow.csv', index=False)"
   ]
  },
  {
   "cell_type": "code",
   "execution_count": 6,
   "id": "8c299bd0",
   "metadata": {},
   "outputs": [
    {
     "name": "stdout",
     "output_type": "stream",
     "text": [
      "Best thr train: 0.988988988988989\n"
     ]
    },
    {
     "data": {
      "text/html": [
       "<div>\n",
       "<style scoped>\n",
       "    .dataframe tbody tr th:only-of-type {\n",
       "        vertical-align: middle;\n",
       "    }\n",
       "\n",
       "    .dataframe tbody tr th {\n",
       "        vertical-align: top;\n",
       "    }\n",
       "\n",
       "    .dataframe thead th {\n",
       "        text-align: right;\n",
       "    }\n",
       "</style>\n",
       "<table border=\"1\" class=\"dataframe\">\n",
       "  <thead>\n",
       "    <tr style=\"text-align: right;\">\n",
       "      <th></th>\n",
       "      <th>purity_cut</th>\n",
       "      <th>purity</th>\n",
       "      <th>threshold</th>\n",
       "      <th>efficiency</th>\n",
       "      <th>bkg_rejection</th>\n",
       "      <th>accuracy</th>\n",
       "    </tr>\n",
       "  </thead>\n",
       "  <tbody>\n",
       "    <tr>\n",
       "      <th>0</th>\n",
       "      <td>0.100000</td>\n",
       "      <td>0.100158</td>\n",
       "      <td>0.037037</td>\n",
       "      <td>0.999507</td>\n",
       "      <td>0.325360</td>\n",
       "      <td>0.372469</td>\n",
       "    </tr>\n",
       "    <tr>\n",
       "      <th>1</th>\n",
       "      <td>0.200000</td>\n",
       "      <td>0.200331</td>\n",
       "      <td>0.201201</td>\n",
       "      <td>0.990079</td>\n",
       "      <td>0.703082</td>\n",
       "      <td>0.723137</td>\n",
       "    </tr>\n",
       "    <tr>\n",
       "      <th>2</th>\n",
       "      <td>0.300000</td>\n",
       "      <td>0.300199</td>\n",
       "      <td>0.427427</td>\n",
       "      <td>0.972795</td>\n",
       "      <td>0.829630</td>\n",
       "      <td>0.839634</td>\n",
       "    </tr>\n",
       "    <tr>\n",
       "      <th>3</th>\n",
       "      <td>0.400000</td>\n",
       "      <td>0.400157</td>\n",
       "      <td>0.661662</td>\n",
       "      <td>0.949716</td>\n",
       "      <td>0.893043</td>\n",
       "      <td>0.897004</td>\n",
       "    </tr>\n",
       "    <tr>\n",
       "      <th>4</th>\n",
       "      <td>0.500000</td>\n",
       "      <td>0.500619</td>\n",
       "      <td>0.837838</td>\n",
       "      <td>0.921518</td>\n",
       "      <td>0.930939</td>\n",
       "      <td>0.930280</td>\n",
       "    </tr>\n",
       "    <tr>\n",
       "      <th>5</th>\n",
       "      <td>0.600000</td>\n",
       "      <td>0.600039</td>\n",
       "      <td>0.940941</td>\n",
       "      <td>0.882189</td>\n",
       "      <td>0.955822</td>\n",
       "      <td>0.950677</td>\n",
       "    </tr>\n",
       "    <tr>\n",
       "      <th>6</th>\n",
       "      <td>0.700000</td>\n",
       "      <td>0.701892</td>\n",
       "      <td>0.985986</td>\n",
       "      <td>0.810166</td>\n",
       "      <td>0.974149</td>\n",
       "      <td>0.962690</td>\n",
       "    </tr>\n",
       "    <tr>\n",
       "      <th>7</th>\n",
       "      <td>0.800000</td>\n",
       "      <td>0.812676</td>\n",
       "      <td>0.997998</td>\n",
       "      <td>0.642310</td>\n",
       "      <td>0.988877</td>\n",
       "      <td>0.964659</td>\n",
       "    </tr>\n",
       "    <tr>\n",
       "      <th>8</th>\n",
       "      <td>0.900000</td>\n",
       "      <td>0.076301</td>\n",
       "      <td>0.000000</td>\n",
       "      <td>1.000000</td>\n",
       "      <td>0.090499</td>\n",
       "      <td>0.154053</td>\n",
       "    </tr>\n",
       "    <tr>\n",
       "      <th>9</th>\n",
       "      <td>0.715803</td>\n",
       "      <td>0.715803</td>\n",
       "      <td>0.988989</td>\n",
       "      <td>0.795284</td>\n",
       "      <td>0.976278</td>\n",
       "      <td>0.963630</td>\n",
       "    </tr>\n",
       "  </tbody>\n",
       "</table>\n",
       "</div>"
      ],
      "text/plain": [
       "   purity_cut    purity  threshold  efficiency  bkg_rejection  accuracy\n",
       "0    0.100000  0.100158   0.037037    0.999507       0.325360  0.372469\n",
       "1    0.200000  0.200331   0.201201    0.990079       0.703082  0.723137\n",
       "2    0.300000  0.300199   0.427427    0.972795       0.829630  0.839634\n",
       "3    0.400000  0.400157   0.661662    0.949716       0.893043  0.897004\n",
       "4    0.500000  0.500619   0.837838    0.921518       0.930939  0.930280\n",
       "5    0.600000  0.600039   0.940941    0.882189       0.955822  0.950677\n",
       "6    0.700000  0.701892   0.985986    0.810166       0.974149  0.962690\n",
       "7    0.800000  0.812676   0.997998    0.642310       0.988877  0.964659\n",
       "8    0.900000  0.076301   0.000000    1.000000       0.090499  0.154053\n",
       "9    0.715803  0.715803   0.988989    0.795284       0.976278  0.963630"
      ]
     },
     "metadata": {},
     "output_type": "display_data"
    }
   ],
   "source": [
    "print('Best thr train:', best_train_thr)\n",
    "display(ppv_train_cutflow)"
   ]
  },
  {
   "cell_type": "code",
   "execution_count": 7,
   "id": "acd74a79",
   "metadata": {},
   "outputs": [
    {
     "name": "stdout",
     "output_type": "stream",
     "text": [
      "Best thr test 0.988988988988989\n"
     ]
    },
    {
     "data": {
      "text/html": [
       "<div>\n",
       "<style scoped>\n",
       "    .dataframe tbody tr th:only-of-type {\n",
       "        vertical-align: middle;\n",
       "    }\n",
       "\n",
       "    .dataframe tbody tr th {\n",
       "        vertical-align: top;\n",
       "    }\n",
       "\n",
       "    .dataframe thead th {\n",
       "        text-align: right;\n",
       "    }\n",
       "</style>\n",
       "<table border=\"1\" class=\"dataframe\">\n",
       "  <thead>\n",
       "    <tr style=\"text-align: right;\">\n",
       "      <th></th>\n",
       "      <th>purity_cut</th>\n",
       "      <th>purity</th>\n",
       "      <th>threshold</th>\n",
       "      <th>efficiency</th>\n",
       "      <th>bkg_rejection</th>\n",
       "      <th>accuracy</th>\n",
       "    </tr>\n",
       "  </thead>\n",
       "  <tbody>\n",
       "    <tr>\n",
       "      <th>0</th>\n",
       "      <td>0.100000</td>\n",
       "      <td>0.100165</td>\n",
       "      <td>0.038038</td>\n",
       "      <td>0.993997</td>\n",
       "      <td>0.329115</td>\n",
       "      <td>0.375577</td>\n",
       "    </tr>\n",
       "    <tr>\n",
       "      <th>1</th>\n",
       "      <td>0.200000</td>\n",
       "      <td>0.200292</td>\n",
       "      <td>0.207207</td>\n",
       "      <td>0.975717</td>\n",
       "      <td>0.707309</td>\n",
       "      <td>0.726066</td>\n",
       "    </tr>\n",
       "    <tr>\n",
       "      <th>2</th>\n",
       "      <td>0.300000</td>\n",
       "      <td>0.300315</td>\n",
       "      <td>0.439439</td>\n",
       "      <td>0.958267</td>\n",
       "      <td>0.832262</td>\n",
       "      <td>0.841068</td>\n",
       "    </tr>\n",
       "    <tr>\n",
       "      <th>3</th>\n",
       "      <td>0.400000</td>\n",
       "      <td>0.400150</td>\n",
       "      <td>0.670671</td>\n",
       "      <td>0.938678</td>\n",
       "      <td>0.894280</td>\n",
       "      <td>0.897383</td>\n",
       "    </tr>\n",
       "    <tr>\n",
       "      <th>4</th>\n",
       "      <td>0.500000</td>\n",
       "      <td>0.500817</td>\n",
       "      <td>0.840841</td>\n",
       "      <td>0.914651</td>\n",
       "      <td>0.931506</td>\n",
       "      <td>0.930328</td>\n",
       "    </tr>\n",
       "    <tr>\n",
       "      <th>5</th>\n",
       "      <td>0.600000</td>\n",
       "      <td>0.601388</td>\n",
       "      <td>0.941942</td>\n",
       "      <td>0.877277</td>\n",
       "      <td>0.956313</td>\n",
       "      <td>0.950790</td>\n",
       "    </tr>\n",
       "    <tr>\n",
       "      <th>6</th>\n",
       "      <td>0.700000</td>\n",
       "      <td>0.703923</td>\n",
       "      <td>0.985986</td>\n",
       "      <td>0.808404</td>\n",
       "      <td>0.974454</td>\n",
       "      <td>0.962850</td>\n",
       "    </tr>\n",
       "    <tr>\n",
       "      <th>7</th>\n",
       "      <td>0.800000</td>\n",
       "      <td>0.811784</td>\n",
       "      <td>0.997998</td>\n",
       "      <td>0.642304</td>\n",
       "      <td>0.988811</td>\n",
       "      <td>0.964597</td>\n",
       "    </tr>\n",
       "    <tr>\n",
       "      <th>8</th>\n",
       "      <td>0.900000</td>\n",
       "      <td>0.076203</td>\n",
       "      <td>0.000000</td>\n",
       "      <td>0.999298</td>\n",
       "      <td>0.089842</td>\n",
       "      <td>0.153396</td>\n",
       "    </tr>\n",
       "    <tr>\n",
       "      <th>9</th>\n",
       "      <td>0.718284</td>\n",
       "      <td>0.718284</td>\n",
       "      <td>0.988989</td>\n",
       "      <td>0.793557</td>\n",
       "      <td>0.976616</td>\n",
       "      <td>0.963824</td>\n",
       "    </tr>\n",
       "  </tbody>\n",
       "</table>\n",
       "</div>"
      ],
      "text/plain": [
       "   purity_cut    purity  threshold  efficiency  bkg_rejection  accuracy\n",
       "0    0.100000  0.100165   0.038038    0.993997       0.329115  0.375577\n",
       "1    0.200000  0.200292   0.207207    0.975717       0.707309  0.726066\n",
       "2    0.300000  0.300315   0.439439    0.958267       0.832262  0.841068\n",
       "3    0.400000  0.400150   0.670671    0.938678       0.894280  0.897383\n",
       "4    0.500000  0.500817   0.840841    0.914651       0.931506  0.930328\n",
       "5    0.600000  0.601388   0.941942    0.877277       0.956313  0.950790\n",
       "6    0.700000  0.703923   0.985986    0.808404       0.974454  0.962850\n",
       "7    0.800000  0.811784   0.997998    0.642304       0.988811  0.964597\n",
       "8    0.900000  0.076203   0.000000    0.999298       0.089842  0.153396\n",
       "9    0.718284  0.718284   0.988989    0.793557       0.976616  0.963824"
      ]
     },
     "metadata": {},
     "output_type": "display_data"
    }
   ],
   "source": [
    "print('Best thr test', best_test_thr)\n",
    "display(ppv_test_cutflow)"
   ]
  },
  {
   "cell_type": "markdown",
   "id": "eaecb6b0",
   "metadata": {},
   "source": [
    "# Notificar quando terminar o teste"
   ]
  },
  {
   "cell_type": "code",
   "execution_count": 8,
   "id": "387813af",
   "metadata": {},
   "outputs": [
    {
     "data": {
      "application/javascript": [
       "\n",
       "  var msg = new SpeechSynthesisUtterance();\n",
       "  msg.text = \"Process completed!\";\n",
       "  window.speechSynthesis.speak(msg);\n",
       "  alert(\"Process completed!\")\n"
      ],
      "text/plain": [
       "<IPython.core.display.Javascript object>"
      ]
     },
     "metadata": {},
     "output_type": "display_data"
    }
   ],
   "source": [
    "from IPython.display import clear_output, display, HTML, Javascript\n",
    "\n",
    "display(Javascript(\"\"\"\n",
    "  var msg = new SpeechSynthesisUtterance();\n",
    "  msg.text = \"Process completed!\";\n",
    "  window.speechSynthesis.speak(msg);\n",
    "  alert(\"Process completed!\")\n",
    "\"\"\"))"
   ]
  },
  {
   "cell_type": "markdown",
   "id": "d8de88b3",
   "metadata": {},
   "source": [
    "# Preparando dados para o Plot do Discriminate"
   ]
  },
  {
   "cell_type": "code",
   "execution_count": 9,
   "id": "68ba3c56",
   "metadata": {},
   "outputs": [],
   "source": [
    "scale_factor = 10**6\n",
    "\n",
    "X_train['LGB_score'] = Y_pred_train\n",
    "X_test['LGB_score'] = Y_pred_test\n",
    "\n",
    "X_train['modelWeight'] = W_train/scale_factor\n",
    "X_test['modelWeight'] = W_test/scale_factor\n",
    "\n",
    "X_train['Label'] = Y_train\n",
    "X_test['Label'] = Y_test\n",
    "\n",
    "X_train[\"evtWeight\"] = evtWeight_train\n",
    "X_test['evtWeight'] = evtWeight_teste"
   ]
  },
  {
   "cell_type": "markdown",
   "id": "0e09748e",
   "metadata": {},
   "source": [
    "# Plot do Discriminate usando modelWeigth"
   ]
  },
  {
   "cell_type": "code",
   "execution_count": 10,
   "id": "624e2f02",
   "metadata": {},
   "outputs": [
    {
     "data": {
      "image/png": "[encoded data removed]",
      "text/plain": [
       "<Figure size 504x504 with 1 Axes>"
      ]
     },
     "metadata": {
      "needs_background": "light"
     },
     "output_type": "display_data"
    }
   ],
   "source": [
    "# Plot config\n",
    "fig = plt.figure(figsize=(7,7))\n",
    "grid = [1,1] # number of rows, number of cols\n",
    "gspec = gs.GridSpec(grid[0], grid[1], width_ratios=[1], height_ratios=[1])\n",
    "\n",
    "# Plot code\n",
    "ax1 = plt.subplot(position(gspec, grid, main=1, sub=1)) # main is column number, sub is row number\n",
    "\n",
    "ana.step_plot(ax1, \"LGB_score\", X_train[X_train.Label == 1], label=f\"{plot_label} (Train)\", color=\"blue\", weight=\"modelWeight\", bins=np.linspace(0, 1, 51))\n",
    "ana.step_plot(ax1, \"LGB_score\", X_test[X_test.Label == 1], label=f\"{plot_label} (Test)\", color=\"blue\", weight=\"modelWeight\", bins=np.linspace(0, 1, 51), linestyle=\"dotted\")\n",
    "ana.step_plot(ax1, \"LGB_score\", X_train[X_train.Label == 0], label=\"Background (Train)\", color=\"red\", weight=\"modelWeight\", bins=np.linspace(0, 1, 51))\n",
    "ana.step_plot(ax1, \"LGB_score\", X_test[X_test.Label == 0], label=\"Background (Test)\", color=\"red\", weight=\"modelWeight\", bins=np.linspace(0, 1, 51), linestyle=\"dotted\")\n",
    "\n",
    "ana.labels(ax1, ylabel=\"Model Weight\", xlabel=\"LGB_score\")\n",
    "ana.style(\n",
    "    ax1, lumi=metadata[\"luminosity\"].get(dataset_year), year=year_style,\n",
    "    ylog=False, legend_ncol=2, #ylim=[0, 1]\n",
    ")\n",
    "plt.savefig(f\"{figures_path}/LGB_score-modelWeight-{model_name}.png\", dpi=200, facecolor='white')\n",
    "plt.show()"
   ]
  },
  {
   "cell_type": "code",
   "execution_count": 11,
   "id": "6b363c2d",
   "metadata": {},
   "outputs": [
    {
     "data": {
      "image/png": "[encoded data removed]",
      "text/plain": [
       "<Figure size 504x504 with 1 Axes>"
      ]
     },
     "metadata": {
      "needs_background": "light"
     },
     "output_type": "display_data"
    }
   ],
   "source": [
    "# Plot config\n",
    "fig = plt.figure(figsize=(7,7))\n",
    "grid = [1,1] # number of rows, number of cols\n",
    "gspec = gs.GridSpec(grid[0], grid[1], width_ratios=[1], height_ratios=[1])\n",
    "\n",
    "# Plot code\n",
    "ax1 = plt.subplot(position(gspec, grid, main=1, sub=1)) # main is column number, sub is row number\n",
    "\n",
    "ana.step_plot(ax1, \"LGB_score\", X_train[X_train.Label == 1], label=f\"{plot_label} (Train)\", color=\"blue\", weight=\"evtWeight\", bins=np.linspace(0, 1, 51))\n",
    "ana.step_plot(ax1, \"LGB_score\", X_test[X_test.Label == 1], label=f\"{plot_label} (Test)\", color=\"blue\", weight=\"evtWeight\", bins=np.linspace(0, 1, 51), linestyle=\"dotted\")\n",
    "ana.step_plot(ax1, \"LGB_score\", X_train[X_train.Label == 0], label=\"Background (Train)\", color=\"red\", weight=\"evtWeight\", bins=np.linspace(0, 1, 51))\n",
    "ana.step_plot(ax1, \"LGB_score\", X_test[X_test.Label == 0], label=\"Background (Test)\", color=\"red\", weight=\"evtWeight\", bins=np.linspace(0, 1, 51), linestyle=\"dotted\")\n",
    "\n",
    "ana.labels(ax1, ylabel=\"Events\", xlabel=\"LGB_score\")\n",
    "ana.style(\n",
    "    ax1, lumi=metadata[\"luminosity\"].get(dataset_year), year=year_style,\n",
    "    ylog=True, legend_ncol=2, ylim=[1e-2, 1e6]\n",
    ")\n",
    "plt.savefig(f\"{figures_path}/LGB_score-evtWeight-{model_name}.png\", dpi=200, facecolor='white')\n",
    "plt.show()"
   ]
  },
  {
   "cell_type": "code",
   "execution_count": null,
   "id": "e29abf84",
   "metadata": {},
   "outputs": [],
   "source": []
  },
  {
   "cell_type": "code",
   "execution_count": null,
   "id": "942de92b",
   "metadata": {},
   "outputs": [],
   "source": []
  },
  {
   "cell_type": "code",
   "execution_count": null,
   "id": "4b98e537",
   "metadata": {},
   "outputs": [],
   "source": []
  }
 ],
 "metadata": {
  "@webio": {
   "lastCommId": null,
   "lastKernelId": null
  },
  "kernelspec": {
   "display_name": "Python 3",
   "language": "python",
   "name": "python3"
  },
  "language_info": {
   "codemirror_mode": {
    "name": "ipython",
    "version": 3
   },
   "file_extension": ".py",
   "mimetype": "text/x-python",
   "name": "python",
   "nbconvert_exporter": "python",
   "pygments_lexer": "ipython3",
   "version": "3.9.12"
  }
 },
 "nbformat": 4,
 "nbformat_minor": 5
}
