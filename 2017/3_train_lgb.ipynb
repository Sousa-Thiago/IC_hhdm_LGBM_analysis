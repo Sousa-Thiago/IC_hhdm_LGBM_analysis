{
 "cells": [
  {
   "cell_type": "markdown",
   "id": "260f9f0b",
   "metadata": {},
   "source": [
    "# Bibliotecas "
   ]
  },
  {
   "cell_type": "code",
   "execution_count": 1,
   "id": "3a90ee42",
   "metadata": {},
   "outputs": [],
   "source": [
    "import sys\n",
    "sys.path.append('/eos/user/t/thenriqu/Dark_Matter/LGBM_hhdm_analysis/')\n",
    "\n",
    "\n",
    "import json\n",
    "from pathlib import Path\n",
    "\n",
    "import pandas as pd\n",
    "import matplotlib.pyplot as plt\n",
    "\n",
    "import hepherolib.analysis as ana\n",
    "from lgbm.controllers_lgb import LGBLearner, LGBModel\n",
    "\n",
    "ana.start()\n",
    "plt.style.use(\"default\")"
   ]
  },
  {
   "cell_type": "markdown",
   "id": "0570d40c",
   "metadata": {},
   "source": [
    "# Configuração"
   ]
  },
  {
   "cell_type": "code",
   "execution_count": 2,
   "id": "c4d4b5f6",
   "metadata": {},
   "outputs": [],
   "source": [
    "period = '17'\n",
    "year_style = 2017\n",
    "dataset_year = \"2017\"\n",
    "basedir = '/eos/user/t/thenriqu/Dark_Matter/Amostras/hhdmAnalysis_deepJet_Regions/datasets'\n",
    "dataset_name = basedir.split('/')[-2]\n",
    "\n",
    "# Data folder\n",
    "data_path = f\"./data/{dataset_name}/{dataset_year}\"\n",
    "\n",
    "# Setup output folders\n",
    "models_path = f\"./models/{dataset_name}/{dataset_year}\"\n",
    "Path(models_path).mkdir(parents=True, exist_ok=True)"
   ]
  },
  {
   "cell_type": "markdown",
   "id": "687524f3",
   "metadata": {},
   "source": [
    "# Lendo os dados"
   ]
  },
  {
   "cell_type": "code",
   "execution_count": 3,
   "id": "aee38ea9",
   "metadata": {},
   "outputs": [],
   "source": [
    "model_name = \"LGB_multi_signal\"\n",
    "\n",
    "X_train = pd.read_csv(f\"{data_path}/{model_name}-train-data.csv\")\n",
    "X_test = pd.read_csv(f\"{data_path}/{model_name}-test-data.csv\")\n",
    "\n",
    "W_train = X_train.pop(\"modelWeight\").values\n",
    "W_test = X_test.pop(\"modelWeight\").values\n",
    "\n",
    "Y_train = X_train.pop(\"Label\").values\n",
    "Y_test = X_test.pop(\"Label\").values\n",
    "\n",
    "evtWeight_train = X_train.pop(\"evtWeight\").values\n",
    "evtWeight_test = X_test.pop(\"evtWeight\").values"
   ]
  },
  {
   "cell_type": "code",
   "execution_count": 4,
   "id": "36042acb",
   "metadata": {
    "scrolled": false
   },
   "outputs": [
    {
     "data": {
      "text/html": [
       "<div>\n",
       "<style scoped>\n",
       "    .dataframe tbody tr th:only-of-type {\n",
       "        vertical-align: middle;\n",
       "    }\n",
       "\n",
       "    .dataframe tbody tr th {\n",
       "        vertical-align: top;\n",
       "    }\n",
       "\n",
       "    .dataframe thead th {\n",
       "        text-align: right;\n",
       "    }\n",
       "</style>\n",
       "<table border=\"1\" class=\"dataframe\">\n",
       "  <thead>\n",
       "    <tr style=\"text-align: right;\">\n",
       "      <th></th>\n",
       "      <th>LeadingLep_pt</th>\n",
       "      <th>LepLep_deltaM</th>\n",
       "      <th>LepLep_deltaR</th>\n",
       "      <th>LepLep_pt</th>\n",
       "      <th>MET_LepLep_Mt</th>\n",
       "      <th>MET_LepLep_deltaPhi</th>\n",
       "      <th>MET_pt</th>\n",
       "      <th>MT2LL</th>\n",
       "      <th>Nbjets</th>\n",
       "      <th>TrailingLep_pt</th>\n",
       "    </tr>\n",
       "  </thead>\n",
       "  <tbody>\n",
       "    <tr>\n",
       "      <th>0</th>\n",
       "      <td>47.163464</td>\n",
       "      <td>0.235672</td>\n",
       "      <td>2.265808</td>\n",
       "      <td>67.92354</td>\n",
       "      <td>128.03561</td>\n",
       "      <td>2.862613</td>\n",
       "      <td>61.526054</td>\n",
       "      <td>61.06800</td>\n",
       "      <td>1</td>\n",
       "      <td>24.065823</td>\n",
       "    </tr>\n",
       "    <tr>\n",
       "      <th>1</th>\n",
       "      <td>172.587650</td>\n",
       "      <td>1.318451</td>\n",
       "      <td>1.578457</td>\n",
       "      <td>175.15870</td>\n",
       "      <td>188.94249</td>\n",
       "      <td>2.127670</td>\n",
       "      <td>66.668750</td>\n",
       "      <td>65.81853</td>\n",
       "      <td>2</td>\n",
       "      <td>22.481535</td>\n",
       "    </tr>\n",
       "    <tr>\n",
       "      <th>2</th>\n",
       "      <td>126.914690</td>\n",
       "      <td>12.223457</td>\n",
       "      <td>0.707707</td>\n",
       "      <td>216.75772</td>\n",
       "      <td>221.90184</td>\n",
       "      <td>3.097569</td>\n",
       "      <td>56.819534</td>\n",
       "      <td>109.99913</td>\n",
       "      <td>2</td>\n",
       "      <td>99.981910</td>\n",
       "    </tr>\n",
       "    <tr>\n",
       "      <th>3</th>\n",
       "      <td>84.078545</td>\n",
       "      <td>1.770401</td>\n",
       "      <td>1.512148</td>\n",
       "      <td>108.57854</td>\n",
       "      <td>143.58008</td>\n",
       "      <td>2.310987</td>\n",
       "      <td>56.695393</td>\n",
       "      <td>70.79929</td>\n",
       "      <td>1</td>\n",
       "      <td>42.847990</td>\n",
       "    </tr>\n",
       "    <tr>\n",
       "      <th>4</th>\n",
       "      <td>143.305710</td>\n",
       "      <td>0.598106</td>\n",
       "      <td>0.690091</td>\n",
       "      <td>255.85414</td>\n",
       "      <td>313.49194</td>\n",
       "      <td>2.549555</td>\n",
       "      <td>104.960400</td>\n",
       "      <td>154.72617</td>\n",
       "      <td>1</td>\n",
       "      <td>128.369500</td>\n",
       "    </tr>\n",
       "  </tbody>\n",
       "</table>\n",
       "</div>"
      ],
      "text/plain": [
       "   LeadingLep_pt  LepLep_deltaM  LepLep_deltaR  LepLep_pt  MET_LepLep_Mt  MET_LepLep_deltaPhi      MET_pt      MT2LL  Nbjets  TrailingLep_pt\n",
       "0      47.163464       0.235672       2.265808   67.92354      128.03561             2.862613   61.526054   61.06800       1       24.065823\n",
       "1     172.587650       1.318451       1.578457  175.15870      188.94249             2.127670   66.668750   65.81853       2       22.481535\n",
       "2     126.914690      12.223457       0.707707  216.75772      221.90184             3.097569   56.819534  109.99913       2       99.981910\n",
       "3      84.078545       1.770401       1.512148  108.57854      143.58008             2.310987   56.695393   70.79929       1       42.847990\n",
       "4     143.305710       0.598106       0.690091  255.85414      313.49194             2.549555  104.960400  154.72617       1      128.369500"
      ]
     },
     "execution_count": 4,
     "metadata": {},
     "output_type": "execute_result"
    }
   ],
   "source": [
    "X_train.head()"
   ]
  },
  {
   "cell_type": "code",
   "execution_count": 5,
   "id": "f07f70b2",
   "metadata": {},
   "outputs": [
    {
     "data": {
      "text/plain": [
       "array([5.99839959e-01, 3.03238276e-01, 1.56494986e-03, ...,\n",
       "       5.20275446e+00, 1.85627215e-01, 6.08263914e+00])"
      ]
     },
     "execution_count": 5,
     "metadata": {},
     "output_type": "execute_result"
    }
   ],
   "source": [
    "W_train"
   ]
  },
  {
   "cell_type": "code",
   "execution_count": 6,
   "id": "7339a84a",
   "metadata": {},
   "outputs": [
    {
     "data": {
      "text/plain": [
       "array([0, 0, 0, ..., 1, 0, 1])"
      ]
     },
     "execution_count": 6,
     "metadata": {},
     "output_type": "execute_result"
    }
   ],
   "source": [
    "Y_train"
   ]
  },
  {
   "cell_type": "markdown",
   "id": "58e6a795",
   "metadata": {},
   "source": [
    "# Train"
   ]
  },
  {
   "cell_type": "code",
   "execution_count": 12,
   "id": "17d584f5",
   "metadata": {},
   "outputs": [],
   "source": [
    "path1 = '/eos/user/t/thenriqu/Dark_Matter/LGBM_hhdm_analysis/Analysis_Regions/Analysis_2017/models/hhdmAnalysis_deepJet_Regions/2017/'\n"
   ]
  },
  {
   "cell_type": "code",
   "execution_count": 13,
   "id": "d674c48d",
   "metadata": {},
   "outputs": [
    {
     "name": "stdout",
     "output_type": "stream",
     "text": [
      "{'subsample': 0.9, 'n_estimators': 9000, 'min_child_weight': 6, 'min_child_samples': 100, 'max_depth': 9, 'learning_rate': 0.008, 'eval_metric': 'error', 'colsample_bytree': 0.8}\n"
     ]
    }
   ],
   "source": [
    "with open(path1 + 'LGB_multi_signal-bst-params.json', 'r') as f:\n",
    "    best_params = json.load(f)\n",
    "\n",
    "print(best_params)"
   ]
  },
  {
   "cell_type": "code",
   "execution_count": 14,
   "id": "b2924947",
   "metadata": {
    "scrolled": true
   },
   "outputs": [
    {
     "name": "stdout",
     "output_type": "stream",
     "text": [
      "[LightGBM] [Warning] Unknown parameter: eval_metric\n",
      "[LightGBM] [Warning] Accuracy may be bad since you didn't explicitly set num_leaves OR 2^max_depth > num_leaves. (num_leaves=31).\n",
      "[LightGBM] [Warning] Unknown parameter: eval_metric\n",
      "[LightGBM] [Warning] Accuracy may be bad since you didn't explicitly set num_leaves OR 2^max_depth > num_leaves. (num_leaves=31).\n",
      "[LightGBM] [Info] Auto-choosing col-wise multi-threading, the overhead of testing was 0.107130 seconds.\n",
      "You can set `force_col_wise=true` to remove the overhead.\n",
      "[LightGBM] [Info] Total Bins 2303\n",
      "[LightGBM] [Info] Number of data points in the train set: 2091463, number of used features: 10\n",
      "[LightGBM] [Info] Start training from score 0.666667\n"
     ]
    }
   ],
   "source": [
    "params = { 'subsample': 0.9,\n",
    "          'n_estimators': 9000,\n",
    "          'min_child_weight': 6,\n",
    "          'min_child_samples': 100,\n",
    "          'max_depth': 9,\n",
    "          'learning_rate': 0.008,\n",
    "          'eval_metric': 'error',\n",
    "          'colsample_bytree': 0.8\n",
    "}\n",
    "\n",
    "# Pode se ler através do arquivos .json salvo no código 2_find_hyperparams_lgb.ipynb\n",
    "# params = json.load(open(f\"{models_path}/{signal_name}-bst-params.json\"))\n",
    "\n",
    "num_boost_round = params.pop('n_estimators')\n",
    "features = [\"LeadingLep_pt\", \"LepLep_pt\", \"LepLep_deltaR\", \"LepLep_deltaM\", \"MET_pt\", \"MET_LepLep_Mt\", \"MET_LepLep_deltaPhi\", \"TrailingLep_pt\", \"MT2LL\", \"Nbjets\"]\n",
    "\n",
    "learner = LGBLearner(X_train, Y_train, W_train, features)\n",
    "learner.train(params, num_boost_round)\n",
    "learner.save_model(f\"{models_path}/{model_name}-clf.model\")\n",
    "# learner.dump_model(f\"{models_path}/{model_name}-raw.model\")"
   ]
  },
  {
   "cell_type": "markdown",
   "id": "8091c262",
   "metadata": {},
   "source": [
    "# Nofiticar quando o Notebook terminar"
   ]
  },
  {
   "cell_type": "code",
   "execution_count": 15,
   "id": "43bf915a",
   "metadata": {},
   "outputs": [
    {
     "data": {
      "application/javascript": [
       "\n",
       "  var msg = new SpeechSynthesisUtterance();\n",
       "  msg.text = \"Processo Completo!\";\n",
       "  window.speechSynthesis.speak(msg);\n",
       "  alert(\"Processo Completo!\")\n"
      ],
      "text/plain": [
       "<IPython.core.display.Javascript object>"
      ]
     },
     "metadata": {},
     "output_type": "display_data"
    }
   ],
   "source": [
    "from IPython.display import clear_output, display, HTML, Javascript\n",
    "\n",
    "display(Javascript(\"\"\"\n",
    "  var msg = new SpeechSynthesisUtterance();\n",
    "  msg.text = \"Processo Completo!\";\n",
    "  window.speechSynthesis.speak(msg);\n",
    "  alert(\"Processo Completo!\")\n",
    "\"\"\"))"
   ]
  },
  {
   "cell_type": "code",
   "execution_count": null,
   "id": "fe6a97c6",
   "metadata": {},
   "outputs": [],
   "source": []
  }
 ],
 "metadata": {
  "@webio": {
   "lastCommId": null,
   "lastKernelId": null
  },
  "kernelspec": {
   "display_name": "Python 3",
   "language": "python",
   "name": "python3"
  },
  "language_info": {
   "codemirror_mode": {
    "name": "ipython",
    "version": 3
   },
   "file_extension": ".py",
   "mimetype": "text/x-python",
   "name": "python",
   "nbconvert_exporter": "python",
   "pygments_lexer": "ipython3",
   "version": "3.9.12"
  }
 },
 "nbformat": 4,
 "nbformat_minor": 5
}
